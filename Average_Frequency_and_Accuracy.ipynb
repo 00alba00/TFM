{
  "nbformat": 4,
  "nbformat_minor": 0,
  "metadata": {
    "colab": {
      "provenance": [],
      "collapsed_sections": [
        "MNENw_XJW7ur",
        "PhigYnNe9iAY",
        "NMrb5YtN2-5w",
        "rOrnyQBGfery",
        "6CzDc7TXlC5W",
        "PeNN1Qrh_aDm",
        "gaMv62ir5wCt",
        "iuaTXbEj5sUR"
      ],
      "authorship_tag": "ABX9TyOSRQXeP/aW4ii+zApXWtVc",
      "include_colab_link": true
    },
    "kernelspec": {
      "name": "python3",
      "display_name": "Python 3"
    },
    "language_info": {
      "name": "python"
    }
  },
  "cells": [
    {
      "cell_type": "markdown",
      "metadata": {
        "id": "view-in-github",
        "colab_type": "text"
      },
      "source": [
        "<a href=\"https://colab.research.google.com/github/00alba00/TFM/blob/main/Average_Frequency_and_Accuracy.ipynb\" target=\"_parent\"><img src=\"https://colab.research.google.com/assets/colab-badge.svg\" alt=\"Open In Colab\"/></a>"
      ]
    },
    {
      "cell_type": "markdown",
      "source": [
        "# **DATA PROCESSING**"
      ],
      "metadata": {
        "id": "MNENw_XJW7ur"
      }
    },
    {
      "cell_type": "markdown",
      "source": [
        "**PART_1**"
      ],
      "metadata": {
        "id": "ST88U2ikXhWj"
      }
    },
    {
      "cell_type": "markdown",
      "source": [
        "Processing CREA_total"
      ],
      "metadata": {
        "id": "Ag-N_t-oIMDB"
      }
    },
    {
      "cell_type": "code",
      "source": [
        "import pandas as pd\n",
        "\n",
        "# Read the file line by line\n",
        "with open('CREA_total.TXT', encoding='latin1') as file:\n",
        "    lines = file.readlines()\n",
        "\n",
        "# Remove the newline characters and strip spaces\n",
        "lines = [line.strip() for line in lines]\n",
        "\n",
        "# Skip the header line if it exists\n",
        "if lines[0].startswith('Orden'):\n",
        "    lines = lines[1:]\n",
        "\n",
        "# Convert to DataFrame\n",
        "crea_total = pd.DataFrame(lines, columns=['orden_frec_absoluta_frec_normalizada'])\n",
        "\n",
        "# Remove spaces within the column data\n",
        "crea_total['orden_frec_absoluta_frec_normalizada'] = crea_total['orden_frec_absoluta_frec_normalizada'].str.replace(\" \", \"\")\n",
        "\n",
        "# Split the column into separate columns using tab as delimiter\n",
        "crea_total[['ranking', 'palabra', 'frecuencia_absoluta', 'frecuencia_normalizada']] = crea_total['orden_frec_absoluta_frec_normalizada'].str.split('\\t', expand=True)\n",
        "\n",
        "# Drop any rows where the split was unsuccessful (e.g., header row)\n",
        "crea_total = crea_total.dropna()\n",
        "\n",
        "# Debugging: Check the DataFrame after splitting\n",
        "print(crea_total.head())\n",
        "\n",
        "# Convert 'ranking' to numeric type\n",
        "crea_total['ranking'] = pd.to_numeric(crea_total['ranking'], errors='coerce')\n",
        "\n",
        "# Remove commas from 'frecuencia_absoluta' and convert to numeric type\n",
        "crea_total['frecuencia_absoluta'] = crea_total['frecuencia_absoluta'].str.replace(\",\", \"\").astype(float)\n",
        "\n",
        "# Remove any unwanted characters from 'frecuencia_normalizada' and convert to numeric type\n",
        "crea_total['frecuencia_normalizada'] = crea_total['frecuencia_normalizada'].str.replace(\"\\u001a\", \"\").astype(float)\n",
        "\n",
        "# Debugging: Check the final DataFrame\n",
        "print(crea_total.head())\n",
        "\n",
        "# Save to CSV\n",
        "crea_total.to_csv(\"CREA_total.csv\", index=False)"
      ],
      "metadata": {
        "colab": {
          "base_uri": "https://localhost:8080/"
        },
        "id": "7uDk1B6iKfuE",
        "outputId": "866b8c84-eddc-49f8-cf95-549df4060082"
      },
      "execution_count": null,
      "outputs": [
        {
          "output_type": "stream",
          "name": "stdout",
          "text": [
            "  orden_frec_absoluta_frec_normalizada ranking palabra frecuencia_absoluta  \\\n",
            "0          1.\\tde\\t9,999,518\\t65545.55      1.      de           9,999,518   \n",
            "1          2.\\tla\\t6,277,560\\t41148.59      2.      la           6,277,560   \n",
            "2         3.\\tque\\t4,681,839\\t30688.85      3.     que           4,681,839   \n",
            "3          4.\\tel\\t4,569,652\\t29953.48      4.      el           4,569,652   \n",
            "4          5.\\ten\\t4,234,281\\t27755.16      5.      en           4,234,281   \n",
            "\n",
            "  frecuencia_normalizada  \n",
            "0               65545.55  \n",
            "1               41148.59  \n",
            "2               30688.85  \n",
            "3               29953.48  \n",
            "4               27755.16  \n",
            "  orden_frec_absoluta_frec_normalizada  ranking palabra  frecuencia_absoluta  \\\n",
            "0          1.\\tde\\t9,999,518\\t65545.55      1.0      de            9999518.0   \n",
            "1          2.\\tla\\t6,277,560\\t41148.59      2.0      la            6277560.0   \n",
            "2         3.\\tque\\t4,681,839\\t30688.85      3.0     que            4681839.0   \n",
            "3          4.\\tel\\t4,569,652\\t29953.48      4.0      el            4569652.0   \n",
            "4          5.\\ten\\t4,234,281\\t27755.16      5.0      en            4234281.0   \n",
            "\n",
            "   frecuencia_normalizada  \n",
            "0                65545.55  \n",
            "1                41148.59  \n",
            "2                30688.85  \n",
            "3                29953.48  \n",
            "4                27755.16  \n"
          ]
        }
      ]
    },
    {
      "cell_type": "code",
      "source": [
        "crea_total= pd.read_csv(\"CREA_total.csv\")\n",
        "\n",
        "crea_total = crea_total.drop(columns=['orden_frec_absoluta_frec_normalizada', \"ranking\"])"
      ],
      "metadata": {
        "id": "ZT-D8PS4KcmP"
      },
      "execution_count": null,
      "outputs": []
    },
    {
      "cell_type": "code",
      "source": [
        "crea_total"
      ],
      "metadata": {
        "colab": {
          "base_uri": "https://localhost:8080/",
          "height": 424
        },
        "id": "PJy6TM7sKfOk",
        "outputId": "6f313d8d-9d8f-4e5c-81ef-5fb8c055feb7"
      },
      "execution_count": null,
      "outputs": [
        {
          "output_type": "execute_result",
          "data": {
            "text/plain": [
              "                               palabra  frecuencia_absoluta  \\\n",
              "0                                   de            9999518.0   \n",
              "1                                   la            6277560.0   \n",
              "2                                  que            4681839.0   \n",
              "3                                   el            4569652.0   \n",
              "4                                   en            4234281.0   \n",
              "...                                ...                  ...   \n",
              "737794                      zzzzzzzzzz                  1.0   \n",
              "737795                zzzzzzzzzzzantes                  1.0   \n",
              "737796                   zzzzzzzzzzzzz                  1.0   \n",
              "737797               zzzzzzzzzzzzzzzzz                  1.0   \n",
              "737798  zzzzzzzzzzzzzzzzzzzzzzzzzzzzzz                  1.0   \n",
              "\n",
              "        frecuencia_normalizada  \n",
              "0                     65545.55  \n",
              "1                     41148.59  \n",
              "2                     30688.85  \n",
              "3                     29953.48  \n",
              "4                     27755.16  \n",
              "...                        ...  \n",
              "737794                    0.00  \n",
              "737795                    0.00  \n",
              "737796                    0.00  \n",
              "737797                    0.00  \n",
              "737798                    0.00  \n",
              "\n",
              "[737799 rows x 3 columns]"
            ],
            "text/html": [
              "\n",
              "  <div id=\"df-0dfb5178-8d05-491f-be8a-86bc8639a0cc\" class=\"colab-df-container\">\n",
              "    <div>\n",
              "<style scoped>\n",
              "    .dataframe tbody tr th:only-of-type {\n",
              "        vertical-align: middle;\n",
              "    }\n",
              "\n",
              "    .dataframe tbody tr th {\n",
              "        vertical-align: top;\n",
              "    }\n",
              "\n",
              "    .dataframe thead th {\n",
              "        text-align: right;\n",
              "    }\n",
              "</style>\n",
              "<table border=\"1\" class=\"dataframe\">\n",
              "  <thead>\n",
              "    <tr style=\"text-align: right;\">\n",
              "      <th></th>\n",
              "      <th>palabra</th>\n",
              "      <th>frecuencia_absoluta</th>\n",
              "      <th>frecuencia_normalizada</th>\n",
              "    </tr>\n",
              "  </thead>\n",
              "  <tbody>\n",
              "    <tr>\n",
              "      <th>0</th>\n",
              "      <td>de</td>\n",
              "      <td>9999518.0</td>\n",
              "      <td>65545.55</td>\n",
              "    </tr>\n",
              "    <tr>\n",
              "      <th>1</th>\n",
              "      <td>la</td>\n",
              "      <td>6277560.0</td>\n",
              "      <td>41148.59</td>\n",
              "    </tr>\n",
              "    <tr>\n",
              "      <th>2</th>\n",
              "      <td>que</td>\n",
              "      <td>4681839.0</td>\n",
              "      <td>30688.85</td>\n",
              "    </tr>\n",
              "    <tr>\n",
              "      <th>3</th>\n",
              "      <td>el</td>\n",
              "      <td>4569652.0</td>\n",
              "      <td>29953.48</td>\n",
              "    </tr>\n",
              "    <tr>\n",
              "      <th>4</th>\n",
              "      <td>en</td>\n",
              "      <td>4234281.0</td>\n",
              "      <td>27755.16</td>\n",
              "    </tr>\n",
              "    <tr>\n",
              "      <th>...</th>\n",
              "      <td>...</td>\n",
              "      <td>...</td>\n",
              "      <td>...</td>\n",
              "    </tr>\n",
              "    <tr>\n",
              "      <th>737794</th>\n",
              "      <td>zzzzzzzzzz</td>\n",
              "      <td>1.0</td>\n",
              "      <td>0.00</td>\n",
              "    </tr>\n",
              "    <tr>\n",
              "      <th>737795</th>\n",
              "      <td>zzzzzzzzzzzantes</td>\n",
              "      <td>1.0</td>\n",
              "      <td>0.00</td>\n",
              "    </tr>\n",
              "    <tr>\n",
              "      <th>737796</th>\n",
              "      <td>zzzzzzzzzzzzz</td>\n",
              "      <td>1.0</td>\n",
              "      <td>0.00</td>\n",
              "    </tr>\n",
              "    <tr>\n",
              "      <th>737797</th>\n",
              "      <td>zzzzzzzzzzzzzzzzz</td>\n",
              "      <td>1.0</td>\n",
              "      <td>0.00</td>\n",
              "    </tr>\n",
              "    <tr>\n",
              "      <th>737798</th>\n",
              "      <td>zzzzzzzzzzzzzzzzzzzzzzzzzzzzzz</td>\n",
              "      <td>1.0</td>\n",
              "      <td>0.00</td>\n",
              "    </tr>\n",
              "  </tbody>\n",
              "</table>\n",
              "<p>737799 rows × 3 columns</p>\n",
              "</div>\n",
              "    <div class=\"colab-df-buttons\">\n",
              "\n",
              "  <div class=\"colab-df-container\">\n",
              "    <button class=\"colab-df-convert\" onclick=\"convertToInteractive('df-0dfb5178-8d05-491f-be8a-86bc8639a0cc')\"\n",
              "            title=\"Convert this dataframe to an interactive table.\"\n",
              "            style=\"display:none;\">\n",
              "\n",
              "  <svg xmlns=\"http://www.w3.org/2000/svg\" height=\"24px\" viewBox=\"0 -960 960 960\">\n",
              "    <path d=\"M120-120v-720h720v720H120Zm60-500h600v-160H180v160Zm220 220h160v-160H400v160Zm0 220h160v-160H400v160ZM180-400h160v-160H180v160Zm440 0h160v-160H620v160ZM180-180h160v-160H180v160Zm440 0h160v-160H620v160Z\"/>\n",
              "  </svg>\n",
              "    </button>\n",
              "\n",
              "  <style>\n",
              "    .colab-df-container {\n",
              "      display:flex;\n",
              "      gap: 12px;\n",
              "    }\n",
              "\n",
              "    .colab-df-convert {\n",
              "      background-color: #E8F0FE;\n",
              "      border: none;\n",
              "      border-radius: 50%;\n",
              "      cursor: pointer;\n",
              "      display: none;\n",
              "      fill: #1967D2;\n",
              "      height: 32px;\n",
              "      padding: 0 0 0 0;\n",
              "      width: 32px;\n",
              "    }\n",
              "\n",
              "    .colab-df-convert:hover {\n",
              "      background-color: #E2EBFA;\n",
              "      box-shadow: 0px 1px 2px rgba(60, 64, 67, 0.3), 0px 1px 3px 1px rgba(60, 64, 67, 0.15);\n",
              "      fill: #174EA6;\n",
              "    }\n",
              "\n",
              "    .colab-df-buttons div {\n",
              "      margin-bottom: 4px;\n",
              "    }\n",
              "\n",
              "    [theme=dark] .colab-df-convert {\n",
              "      background-color: #3B4455;\n",
              "      fill: #D2E3FC;\n",
              "    }\n",
              "\n",
              "    [theme=dark] .colab-df-convert:hover {\n",
              "      background-color: #434B5C;\n",
              "      box-shadow: 0px 1px 3px 1px rgba(0, 0, 0, 0.15);\n",
              "      filter: drop-shadow(0px 1px 2px rgba(0, 0, 0, 0.3));\n",
              "      fill: #FFFFFF;\n",
              "    }\n",
              "  </style>\n",
              "\n",
              "    <script>\n",
              "      const buttonEl =\n",
              "        document.querySelector('#df-0dfb5178-8d05-491f-be8a-86bc8639a0cc button.colab-df-convert');\n",
              "      buttonEl.style.display =\n",
              "        google.colab.kernel.accessAllowed ? 'block' : 'none';\n",
              "\n",
              "      async function convertToInteractive(key) {\n",
              "        const element = document.querySelector('#df-0dfb5178-8d05-491f-be8a-86bc8639a0cc');\n",
              "        const dataTable =\n",
              "          await google.colab.kernel.invokeFunction('convertToInteractive',\n",
              "                                                    [key], {});\n",
              "        if (!dataTable) return;\n",
              "\n",
              "        const docLinkHtml = 'Like what you see? Visit the ' +\n",
              "          '<a target=\"_blank\" href=https://colab.research.google.com/notebooks/data_table.ipynb>data table notebook</a>'\n",
              "          + ' to learn more about interactive tables.';\n",
              "        element.innerHTML = '';\n",
              "        dataTable['output_type'] = 'display_data';\n",
              "        await google.colab.output.renderOutput(dataTable, element);\n",
              "        const docLink = document.createElement('div');\n",
              "        docLink.innerHTML = docLinkHtml;\n",
              "        element.appendChild(docLink);\n",
              "      }\n",
              "    </script>\n",
              "  </div>\n",
              "\n",
              "\n",
              "<div id=\"df-c45c9445-5c04-4984-892f-eaa802fb240e\">\n",
              "  <button class=\"colab-df-quickchart\" onclick=\"quickchart('df-c45c9445-5c04-4984-892f-eaa802fb240e')\"\n",
              "            title=\"Suggest charts\"\n",
              "            style=\"display:none;\">\n",
              "\n",
              "<svg xmlns=\"http://www.w3.org/2000/svg\" height=\"24px\"viewBox=\"0 0 24 24\"\n",
              "     width=\"24px\">\n",
              "    <g>\n",
              "        <path d=\"M19 3H5c-1.1 0-2 .9-2 2v14c0 1.1.9 2 2 2h14c1.1 0 2-.9 2-2V5c0-1.1-.9-2-2-2zM9 17H7v-7h2v7zm4 0h-2V7h2v10zm4 0h-2v-4h2v4z\"/>\n",
              "    </g>\n",
              "</svg>\n",
              "  </button>\n",
              "\n",
              "<style>\n",
              "  .colab-df-quickchart {\n",
              "      --bg-color: #E8F0FE;\n",
              "      --fill-color: #1967D2;\n",
              "      --hover-bg-color: #E2EBFA;\n",
              "      --hover-fill-color: #174EA6;\n",
              "      --disabled-fill-color: #AAA;\n",
              "      --disabled-bg-color: #DDD;\n",
              "  }\n",
              "\n",
              "  [theme=dark] .colab-df-quickchart {\n",
              "      --bg-color: #3B4455;\n",
              "      --fill-color: #D2E3FC;\n",
              "      --hover-bg-color: #434B5C;\n",
              "      --hover-fill-color: #FFFFFF;\n",
              "      --disabled-bg-color: #3B4455;\n",
              "      --disabled-fill-color: #666;\n",
              "  }\n",
              "\n",
              "  .colab-df-quickchart {\n",
              "    background-color: var(--bg-color);\n",
              "    border: none;\n",
              "    border-radius: 50%;\n",
              "    cursor: pointer;\n",
              "    display: none;\n",
              "    fill: var(--fill-color);\n",
              "    height: 32px;\n",
              "    padding: 0;\n",
              "    width: 32px;\n",
              "  }\n",
              "\n",
              "  .colab-df-quickchart:hover {\n",
              "    background-color: var(--hover-bg-color);\n",
              "    box-shadow: 0 1px 2px rgba(60, 64, 67, 0.3), 0 1px 3px 1px rgba(60, 64, 67, 0.15);\n",
              "    fill: var(--button-hover-fill-color);\n",
              "  }\n",
              "\n",
              "  .colab-df-quickchart-complete:disabled,\n",
              "  .colab-df-quickchart-complete:disabled:hover {\n",
              "    background-color: var(--disabled-bg-color);\n",
              "    fill: var(--disabled-fill-color);\n",
              "    box-shadow: none;\n",
              "  }\n",
              "\n",
              "  .colab-df-spinner {\n",
              "    border: 2px solid var(--fill-color);\n",
              "    border-color: transparent;\n",
              "    border-bottom-color: var(--fill-color);\n",
              "    animation:\n",
              "      spin 1s steps(1) infinite;\n",
              "  }\n",
              "\n",
              "  @keyframes spin {\n",
              "    0% {\n",
              "      border-color: transparent;\n",
              "      border-bottom-color: var(--fill-color);\n",
              "      border-left-color: var(--fill-color);\n",
              "    }\n",
              "    20% {\n",
              "      border-color: transparent;\n",
              "      border-left-color: var(--fill-color);\n",
              "      border-top-color: var(--fill-color);\n",
              "    }\n",
              "    30% {\n",
              "      border-color: transparent;\n",
              "      border-left-color: var(--fill-color);\n",
              "      border-top-color: var(--fill-color);\n",
              "      border-right-color: var(--fill-color);\n",
              "    }\n",
              "    40% {\n",
              "      border-color: transparent;\n",
              "      border-right-color: var(--fill-color);\n",
              "      border-top-color: var(--fill-color);\n",
              "    }\n",
              "    60% {\n",
              "      border-color: transparent;\n",
              "      border-right-color: var(--fill-color);\n",
              "    }\n",
              "    80% {\n",
              "      border-color: transparent;\n",
              "      border-right-color: var(--fill-color);\n",
              "      border-bottom-color: var(--fill-color);\n",
              "    }\n",
              "    90% {\n",
              "      border-color: transparent;\n",
              "      border-bottom-color: var(--fill-color);\n",
              "    }\n",
              "  }\n",
              "</style>\n",
              "\n",
              "  <script>\n",
              "    async function quickchart(key) {\n",
              "      const quickchartButtonEl =\n",
              "        document.querySelector('#' + key + ' button');\n",
              "      quickchartButtonEl.disabled = true;  // To prevent multiple clicks.\n",
              "      quickchartButtonEl.classList.add('colab-df-spinner');\n",
              "      try {\n",
              "        const charts = await google.colab.kernel.invokeFunction(\n",
              "            'suggestCharts', [key], {});\n",
              "      } catch (error) {\n",
              "        console.error('Error during call to suggestCharts:', error);\n",
              "      }\n",
              "      quickchartButtonEl.classList.remove('colab-df-spinner');\n",
              "      quickchartButtonEl.classList.add('colab-df-quickchart-complete');\n",
              "    }\n",
              "    (() => {\n",
              "      let quickchartButtonEl =\n",
              "        document.querySelector('#df-c45c9445-5c04-4984-892f-eaa802fb240e button');\n",
              "      quickchartButtonEl.style.display =\n",
              "        google.colab.kernel.accessAllowed ? 'block' : 'none';\n",
              "    })();\n",
              "  </script>\n",
              "</div>\n",
              "    </div>\n",
              "  </div>\n"
            ],
            "application/vnd.google.colaboratory.intrinsic+json": {
              "type": "dataframe",
              "variable_name": "crea_total"
            }
          },
          "metadata": {},
          "execution_count": 23
        }
      ]
    },
    {
      "cell_type": "markdown",
      "source": [
        "Calculating Average Normalized Frequency"
      ],
      "metadata": {
        "id": "soew6M9JXHR-"
      }
    },
    {
      "cell_type": "code",
      "execution_count": null,
      "metadata": {
        "colab": {
          "base_uri": "https://localhost:8080/"
        },
        "id": "P3j4WdCwTdiD",
        "outputId": "a1f47432-9ab7-4d27-d430-b16892796213"
      },
      "outputs": [
        {
          "output_type": "stream",
          "name": "stdout",
          "text": [
            "             ID                                 Tokenized Sentence\n",
            "0  ESCoLA_10146                                  [qué, te, parece]\n",
            "1   ESCoLA_2419    [juan, es, el, chico, más, libros, que, compró]\n",
            "2   ESCoLA_4535  [escribió, la, carta, juan, o, la, tarjeta, pe...\n",
            "3   ESCoLA_7107  [los, mecánicos, arreglaron, la, puerta, y, la...\n",
            "4   ESCoLA_3032  [maría, quería, un, coche, y, se, le, hemos, r...\n"
          ]
        }
      ],
      "source": [
        "import pandas as pd\n",
        "import re\n",
        "\n",
        "def tokenize_text(text):\n",
        "    # Use regular expression to split text into tokens based on whitespace and punctuation\n",
        "    tokens = re.findall(r'\\w+|[^\\w\\s]', text, re.UNICODE)\n",
        "    # Convert tokens to lowercase\n",
        "    tokens = [token.lower().strip() for token in tokens if token.isalnum()]\n",
        "    return tokens\n",
        "\n",
        "def tokenize_escola_file(filename):\n",
        "    # Read the CSV file into a DataFrame\n",
        "    df = pd.read_csv(filename)\n",
        "\n",
        "    # Tokenize each sentence in the \"Sentence\" column\n",
        "    df['Tokenized Sentence'] = df['Sentence'].apply(tokenize_text)\n",
        "\n",
        "    # Return the DataFrame with the tokenized sentences\n",
        "    return df[[\"ID\",'Tokenized Sentence']]\n",
        "\n",
        "\n",
        "filename = 'test_pred.csv'\n",
        "tokenized_data = tokenize_escola_file(filename)\n",
        "print(tokenized_data.head())"
      ]
    },
    {
      "cell_type": "code",
      "source": [
        "import pandas as pd\n",
        "\n",
        "def calculate_norm_frequencies(tokenized_data_path, crea_path):\n",
        "\n",
        "    crea_total['palabra'] = crea_total['palabra'].str.strip().str.lower()\n",
        "\n",
        "    # Create a dictionary mapping words to normalized frequencies\n",
        "    word_to_rel_freq = dict(zip(crea_total['palabra'], crea_total['frecuencia_normalizada']))\n",
        "\n",
        "    # Function to compute normalized frequencies for a given tokenized sentence\n",
        "    def calculate_norm_freq(sentence):\n",
        "        return [word_to_rel_freq.get(token, 0.0) for token in sentence]\n",
        "\n",
        "    # Apply the function to each tokenized sentence and create a new column with the results\n",
        "    tokenized_data['Normalized Frequencies'] = tokenized_data['Tokenized Sentence'].apply(calculate_norm_freq)\n",
        "\n",
        "    return tokenized_data\n",
        "\n",
        "\n",
        "result = calculate_norm_frequencies(\"tokenized_data\", \"crea_total\")\n",
        "print(result)"
      ],
      "metadata": {
        "colab": {
          "base_uri": "https://localhost:8080/"
        },
        "id": "QDSin_-dW6pA",
        "outputId": "ef57d9a9-6887-4717-f749-44ed1d21fb16"
      },
      "execution_count": null,
      "outputs": [
        {
          "output_type": "stream",
          "name": "stdout",
          "text": [
            "                ID                                 Tokenized Sentence  \\\n",
            "0     ESCoLA_10146                                  [qué, te, parece]   \n",
            "1      ESCoLA_2419    [juan, es, el, chico, más, libros, que, compró]   \n",
            "2      ESCoLA_4535  [escribió, la, carta, juan, o, la, tarjeta, pe...   \n",
            "3      ESCoLA_7107  [los, mecánicos, arreglaron, la, puerta, y, la...   \n",
            "4      ESCoLA_3032  [maría, quería, un, coche, y, se, le, hemos, r...   \n",
            "...            ...                                                ...   \n",
            "1055  ESCoLA_10334         [fue, con, aquel, lápiz, con, que, dibujó]   \n",
            "1056   ESCoLA_3673  [un, futbolista, agredió, a, una, periodista, ...   \n",
            "1057   ESCoLA_4060  [durante, los, primeros, años, se, encargó, de...   \n",
            "1058   ESCoLA_1919                        [juan, es, un, poco, torpe]   \n",
            "1059    ESCoLA_512            [hay, un, cartel, fijo, por, el, bedel]   \n",
            "\n",
            "                                 Normalized Frequencies  \n",
            "0                             [1212.36, 786.92, 357.59]  \n",
            "1     [374.96, 6683.79, 29953.48, 36.91, 4337.33, 11...  \n",
            "2     [37.04, 41148.59, 119.41, 374.96, 3554.6, 4114...  \n",
            "3     [17164.95, 7.27, 0.68, 41148.59, 206.49, 27401...  \n",
            "4     [260.96, 123.4, 10879.95, 74.31, 27401.19, 132...  \n",
            "...                                                 ...  \n",
            "1055  [1466.92, 9711.74, 258.11, 8.04, 9711.74, 3068...  \n",
            "1056  [10879.95, 9.7, 0.92, 21375.03, 8833.36, 56.02...  \n",
            "1057  [734.27, 17164.95, 184.8, 1330.81, 13257.31, 1...  \n",
            "1058          [374.96, 6683.79, 10879.95, 604.39, 8.35]  \n",
            "1059  [1081.16, 10879.95, 20.3, 17.88, 10238.07, 299...  \n",
            "\n",
            "[1060 rows x 3 columns]\n"
          ]
        }
      ]
    },
    {
      "cell_type": "code",
      "source": [
        "import pandas as pd\n",
        "\n",
        "# Function to calculate average normalized frequency\n",
        "def calculate_average(row):\n",
        "    return sum(row) / len(row)\n",
        "\n",
        "# Apply the function to each list in the 'Normalized Frequencies' column\n",
        "result['Average Normalized Frequency'] = result['Normalized Frequencies'].apply(calculate_average)\n",
        "\n",
        "print(result)"
      ],
      "metadata": {
        "colab": {
          "base_uri": "https://localhost:8080/"
        },
        "id": "5tN3hXeIXQA4",
        "outputId": "df304554-14f6-461d-ef4f-b640eb160bfc"
      },
      "execution_count": null,
      "outputs": [
        {
          "output_type": "stream",
          "name": "stdout",
          "text": [
            "                ID                                 Tokenized Sentence  \\\n",
            "0     ESCoLA_10146                                  [qué, te, parece]   \n",
            "1      ESCoLA_2419    [juan, es, el, chico, más, libros, que, compró]   \n",
            "2      ESCoLA_4535  [escribió, la, carta, juan, o, la, tarjeta, pe...   \n",
            "3      ESCoLA_7107  [los, mecánicos, arreglaron, la, puerta, y, la...   \n",
            "4      ESCoLA_3032  [maría, quería, un, coche, y, se, le, hemos, r...   \n",
            "...            ...                                                ...   \n",
            "1055  ESCoLA_10334         [fue, con, aquel, lápiz, con, que, dibujó]   \n",
            "1056   ESCoLA_3673  [un, futbolista, agredió, a, una, periodista, ...   \n",
            "1057   ESCoLA_4060  [durante, los, primeros, años, se, encargó, de...   \n",
            "1058   ESCoLA_1919                        [juan, es, un, poco, torpe]   \n",
            "1059    ESCoLA_512            [hay, un, cartel, fijo, por, el, bedel]   \n",
            "\n",
            "                                 Normalized Frequencies  \\\n",
            "0                             [1212.36, 786.92, 357.59]   \n",
            "1     [374.96, 6683.79, 29953.48, 36.91, 4337.33, 11...   \n",
            "2     [37.04, 41148.59, 119.41, 374.96, 3554.6, 4114...   \n",
            "3     [17164.95, 7.27, 0.68, 41148.59, 206.49, 27401...   \n",
            "4     [260.96, 123.4, 10879.95, 74.31, 27401.19, 132...   \n",
            "...                                                 ...   \n",
            "1055  [1466.92, 9711.74, 258.11, 8.04, 9711.74, 3068...   \n",
            "1056  [10879.95, 9.7, 0.92, 21375.03, 8833.36, 56.02...   \n",
            "1057  [734.27, 17164.95, 184.8, 1330.81, 13257.31, 1...   \n",
            "1058          [374.96, 6683.79, 10879.95, 604.39, 8.35]   \n",
            "1059  [1081.16, 10879.95, 20.3, 17.88, 10238.07, 299...   \n",
            "\n",
            "      Average Normalized Frequency  \n",
            "0                       785.623333  \n",
            "1                      9025.117500  \n",
            "2                     10820.238750  \n",
            "3                     14130.855556  \n",
            "4                      6105.294444  \n",
            "...                            ...  \n",
            "1055                   7406.831429  \n",
            "1056                  13340.655000  \n",
            "1057                  14571.841667  \n",
            "1058                   3710.288000  \n",
            "1059                   7455.940000  \n",
            "\n",
            "[1060 rows x 4 columns]\n"
          ]
        }
      ]
    },
    {
      "cell_type": "markdown",
      "source": [
        "Calculating Accuracy"
      ],
      "metadata": {
        "id": "C0Sbr719XTCY"
      }
    },
    {
      "cell_type": "code",
      "source": [
        "import pandas as pd\n",
        "\n",
        "def calculate_accuracy(df):\n",
        "    # Calculate accuracy for each row\n",
        "    accuracy = (df['roberta-large-bne'] == df['Label']).astype(int)\n",
        "\n",
        "    # Add accuracy values to a new column\n",
        "    df['Accuracy'] = accuracy\n",
        "\n",
        "    # Return the DataFrame with Model, Label, and Accuracy columns\n",
        "    return df[[\"ID\", 'roberta-large-bne', 'Label', 'Accuracy']]\n",
        "\n",
        "# Read the CSV file\n",
        "df = pd.read_csv('test_pred.csv')\n",
        "\n",
        "# Call the function to calculate accuracy\n",
        "result_df = calculate_accuracy(df)\n",
        "\n",
        "# Print the resulting DataFrame\n",
        "print(result_df)"
      ],
      "metadata": {
        "colab": {
          "base_uri": "https://localhost:8080/"
        },
        "id": "pefHaZq1XWzF",
        "outputId": "2971e81e-aaa7-43d7-fc20-877d63be74d0"
      },
      "execution_count": null,
      "outputs": [
        {
          "output_type": "stream",
          "name": "stdout",
          "text": [
            "                ID  roberta-large-bne  Label  Accuracy\n",
            "0     ESCoLA_10146                  0      0         1\n",
            "1      ESCoLA_2419                  1      1         1\n",
            "2      ESCoLA_4535                  1      1         1\n",
            "3      ESCoLA_7107                  0      0         1\n",
            "4      ESCoLA_3032                  1      0         0\n",
            "...            ...                ...    ...       ...\n",
            "1055  ESCoLA_10334                  1      1         1\n",
            "1056   ESCoLA_3673                  0      0         1\n",
            "1057   ESCoLA_4060                  0      0         1\n",
            "1058   ESCoLA_1919                  0      0         1\n",
            "1059    ESCoLA_512                  1      1         1\n",
            "\n",
            "[1060 rows x 4 columns]\n"
          ]
        }
      ]
    },
    {
      "cell_type": "markdown",
      "source": [
        "Merging dataframes"
      ],
      "metadata": {
        "id": "YbPeoMqvXaRv"
      }
    },
    {
      "cell_type": "code",
      "source": [
        "import pandas as pd\n",
        "\n",
        "\n",
        "# Merge the two dataframes on the 'ID' column\n",
        "merged_df = pd.merge(result, result_df, on='ID', how='inner')\n",
        "\n",
        "# Selecting the desired columns\n",
        "new_df = merged_df[['ID', 'Average Normalized Frequency', 'Accuracy']]\n",
        "\n",
        "print(new_df)"
      ],
      "metadata": {
        "colab": {
          "base_uri": "https://localhost:8080/"
        },
        "id": "QGHueHWEXZ20",
        "outputId": "c277c027-f195-43af-8153-a6b083d508f3"
      },
      "execution_count": null,
      "outputs": [
        {
          "output_type": "stream",
          "name": "stdout",
          "text": [
            "                ID  Average Normalized Frequency  Accuracy\n",
            "0     ESCoLA_10146                    785.623333         1\n",
            "1      ESCoLA_2419                   9025.117500         1\n",
            "2      ESCoLA_4535                  10820.238750         1\n",
            "3      ESCoLA_7107                  14130.855556         1\n",
            "4      ESCoLA_3032                   6105.294444         0\n",
            "...            ...                           ...       ...\n",
            "1055  ESCoLA_10334                   7406.831429         1\n",
            "1056   ESCoLA_3673                  13340.655000         1\n",
            "1057   ESCoLA_4060                  14571.841667         1\n",
            "1058   ESCoLA_1919                   3710.288000         1\n",
            "1059    ESCoLA_512                   7455.940000         1\n",
            "\n",
            "[1060 rows x 3 columns]\n"
          ]
        }
      ]
    },
    {
      "cell_type": "code",
      "source": [
        "import matplotlib.pyplot as plt\n",
        "import pandas as pd\n",
        "\n",
        "\n",
        "plt.figure(figsize=(10, 6))\n",
        "plt.scatter(new_df['Accuracy'],new_df['Average Normalized Frequency'], c='blue', alpha=0.5)\n",
        "plt.title('Scatter Plot of Average Normalized Frequency vs Accuracy')\n",
        "plt.xlabel('Accuracy')\n",
        "plt.ylabel('Average Normalized Frequency')\n",
        "plt.grid(True)\n",
        "plt.show()"
      ],
      "metadata": {
        "colab": {
          "base_uri": "https://localhost:8080/",
          "height": 564
        },
        "id": "YUEjOyq56uUQ",
        "outputId": "000dc3d1-d83e-491f-f3ed-3d4906a600e9"
      },
      "execution_count": null,
      "outputs": [
        {
          "output_type": "display_data",
          "data": {
            "text/plain": [
              "<Figure size 1000x600 with 1 Axes>"
            ],
            "image/png": "[encoded data removed]"
          },
          "metadata": {}
        }
      ]
    },
    {
      "cell_type": "markdown",
      "source": [
        "# **EDA**"
      ],
      "metadata": {
        "id": "PhigYnNe9iAY"
      }
    },
    {
      "cell_type": "code",
      "source": [
        "import pandas as pd\n",
        "import numpy as np\n",
        "import matplotlib.pyplot as plt\n",
        "\n",
        "\n",
        "# Step 1: Descriptive Statistics\n",
        "# Average Normalized Frequency (Continuous Variable)\n",
        "plt.hist(new_df['Average Normalized Frequency'], bins=30, edgecolor='k')\n",
        "plt.xlabel('Average Normalized Frequency')\n",
        "plt.ylabel('Frequency')\n",
        "plt.title('Distribution of Average Normalized Frequency')\n",
        "plt.show()\n",
        "\n",
        "avg_norm_freq_median = new_df['Average Normalized Frequency'].median()\n",
        "avg_norm_freq_iqr = new_df['Average Normalized Frequency'].quantile(0.75) - new_df['Average Normalized Frequency'].quantile(0.25)\n",
        "print(f\"Median of Average Normalized Frequency: {avg_norm_freq_median}\")\n",
        "print(f\"IQR of Average Normalized Frequency: {avg_norm_freq_iqr}\")\n",
        "\n",
        "# Accuracy (Categorical Variable)\n",
        "accuracy_counts = new_df['Accuracy'].value_counts()\n",
        "accuracy_percentages = new_df['Accuracy'].value_counts(normalize=True) * 100\n",
        "print(\"Accuracy Counts:\\n\", accuracy_counts)\n",
        "print(\"Accuracy Percentages:\\n\", accuracy_percentages)\n",
        "\n",
        "# Step 2: Descriptive Statistics by Outcome Group\n",
        "grouped = new_df.groupby('Accuracy')\n",
        "\n",
        "# Average Normalized Frequency by Accuracy Status\n",
        "avg_norm_freq_by_accuracy = grouped['Average Normalized Frequency'].agg([np.median, lambda x: np.percentile(x, 75) - np.percentile(x, 25)])\n",
        "avg_norm_freq_by_accuracy.columns = ['Median', 'IQR']\n",
        "print(\"Average Normalized Frequency by Accuracy Status:\\n\", avg_norm_freq_by_accuracy)\n"
      ],
      "metadata": {
        "colab": {
          "base_uri": "https://localhost:8080/"
        },
        "id": "qnFImINP-mY6",
        "outputId": "3aa6b08c-6b87-434a-dc9a-fdef4fa535de"
      },
      "execution_count": null,
      "outputs": [
        {
          "output_type": "display_data",
          "data": {
            "text/plain": [
              "<Figure size 640x480 with 1 Axes>"
            ],
            "image/png": "[encoded data removed]"
          },
          "metadata": {}
        },
        {
          "output_type": "stream",
          "name": "stdout",
          "text": [
            "Median of Average Normalized Frequency: 7421.037828282828\n",
            "IQR of Average Normalized Frequency: 6551.576221590908\n",
            "Accuracy Counts:\n",
            " Accuracy\n",
            "1    800\n",
            "0    260\n",
            "Name: count, dtype: int64\n",
            "Accuracy Percentages:\n",
            " Accuracy\n",
            "1    75.471698\n",
            "0    24.528302\n",
            "Name: proportion, dtype: float64\n",
            "Average Normalized Frequency by Accuracy Status:\n",
            "                Median          IQR\n",
            "Accuracy                          \n",
            "0         7350.354659  6005.872655\n",
            "1         7471.424722  6709.478000\n"
          ]
        }
      ]
    },
    {
      "cell_type": "markdown",
      "source": [
        "# **ASSUMPTIONS CHECK**"
      ],
      "metadata": {
        "id": "NMrb5YtN2-5w"
      }
    },
    {
      "cell_type": "markdown",
      "source": [
        "Step 1: Independence of Observations\n",
        "Ensure your data collection process guarantees independence. This step is not typically performed in code but through design and documentation.\n",
        "\n"
      ],
      "metadata": {
        "id": "SVGiKGz43END"
      }
    },
    {
      "cell_type": "markdown",
      "source": [
        "Step 2: Multicollinearity Check\n",
        "\n",
        "Step 3: Linearity of Continuous Predictors"
      ],
      "metadata": {
        "id": "UK5hzWE83GJ3"
      }
    },
    {
      "cell_type": "code",
      "source": [
        "import pandas as pd\n",
        "import statsmodels.api as sm\n",
        "from statsmodels.stats.outliers_influence import variance_inflation_factor\n",
        "import matplotlib.pyplot as plt\n",
        "import seaborn as sns\n",
        "from sklearn.linear_model import LogisticRegression\n",
        "import numpy as np\n",
        "\n",
        "# Checking multicollinearity\n",
        "# Adding a constant to the independent variable\n",
        "X = new_df[['Average Normalized Frequency']]\n",
        "X = sm.add_constant(X)\n",
        "\n",
        "# Fitting the model\n",
        "model = sm.Logit(new_df['Accuracy'], X).fit()\n",
        "\n",
        "# Calculating VIF for each predictor\n",
        "vif_data = pd.DataFrame()\n",
        "vif_data[\"feature\"] = X.columns\n",
        "vif_data[\"VIF\"] = [variance_inflation_factor(X.values, i) for i in range(X.shape[1])]\n",
        "\n",
        "print(\"VIF Values:\")\n",
        "print(vif_data)\n",
        "\n",
        "# Check linearity assumption\n",
        "# Adding a column for log-odds\n",
        "new_df['log_odds'] = model.predict(X)\n",
        "\n",
        "# Plotting with LOESS and Linear regression lines\n",
        "sns.scatterplot(x='Average Normalized Frequency', y='log_odds', data=new_df)\n",
        "\n",
        "# Adding a linear fit\n",
        "sns.regplot(x='Average Normalized Frequency', y='log_odds', data=new_df, scatter=False, color='red', label='Linear fit')\n",
        "\n",
        "# Adding a loess curve\n",
        "loess = sm.nonparametric.lowess\n",
        "loess_result = loess(new_df['log_odds'], new_df['Average Normalized Frequency'], frac=0.3)\n",
        "plt.plot(loess_result[:, 0], loess_result[:, 1], color='blue', label='LOESS curve')\n",
        "\n",
        "plt.title('Linearity Check for Average Normalized Frequency')\n",
        "plt.xlabel('Average Normalized Frequency')\n",
        "plt.ylabel('Log-Odds')\n",
        "plt.legend()\n",
        "plt.show()\n"
      ],
      "metadata": {
        "colab": {
          "base_uri": "https://localhost:8080/"
        },
        "id": "okegHwyt3DnH",
        "outputId": "c0b69778-3584-45a2-9e16-772afd604178"
      },
      "execution_count": null,
      "outputs": [
        {
          "output_type": "stream",
          "name": "stdout",
          "text": [
            "Optimization terminated successfully.\n",
            "         Current function value: 0.557059\n",
            "         Iterations 5\n",
            "VIF Values:\n",
            "                        feature       VIF\n",
            "0                         const  3.720572\n",
            "1  Average Normalized Frequency  1.000000\n"
          ]
        },
        {
          "output_type": "stream",
          "name": "stderr",
          "text": [
            "<ipython-input-10-cdfd40ae2cdd>:27: SettingWithCopyWarning: \n",
            "A value is trying to be set on a copy of a slice from a DataFrame.\n",
            "Try using .loc[row_indexer,col_indexer] = value instead\n",
            "\n",
            "See the caveats in the documentation: https://pandas.pydata.org/pandas-docs/stable/user_guide/indexing.html#returning-a-view-versus-a-copy\n",
            "  new_df['log_odds'] = model.predict(X)\n"
          ]
        },
        {
          "output_type": "display_data",
          "data": {
            "text/plain": [
              "<Figure size 640x480 with 1 Axes>"
            ],
            "image/png": "[encoded data removed]"
          },
          "metadata": {}
        }
      ]
    },
    {
      "cell_type": "markdown",
      "source": [
        "# **Logistic Regression Model**"
      ],
      "metadata": {
        "id": "rOrnyQBGfery"
      }
    },
    {
      "cell_type": "code",
      "source": [
        "import statsmodels.api as sm\n",
        "\n",
        "def logistic_regression(df):\n",
        "    # Add constant term for intercept\n",
        "    df['intercept'] = 1\n",
        "\n",
        "    # Define independent and dependent variables\n",
        "    X = df[['Average Normalized Frequency', 'intercept']]\n",
        "    y = df['Accuracy']\n",
        "\n",
        "    # Fit logistic regression model\n",
        "    logit_model = sm.Logit(y, X)\n",
        "    result = logit_model.fit()\n",
        "\n",
        "    return result\n",
        "\n",
        "\n",
        "result = logistic_regression(new_df)\n",
        "print(result.summary())"
      ],
      "metadata": {
        "colab": {
          "base_uri": "https://localhost:8080/"
        },
        "id": "IaoN9H0gfi1r",
        "outputId": "f729968f-15c3-43e3-8430-122518a428e8"
      },
      "execution_count": null,
      "outputs": [
        {
          "output_type": "stream",
          "name": "stdout",
          "text": [
            "Optimization terminated successfully.\n",
            "         Current function value: 0.557059\n",
            "         Iterations 5\n",
            "                           Logit Regression Results                           \n",
            "==============================================================================\n",
            "Dep. Variable:               Accuracy   No. Observations:                 1060\n",
            "Model:                          Logit   Df Residuals:                     1058\n",
            "Method:                           MLE   Df Model:                            1\n",
            "Date:                Tue, 18 Jun 2024   Pseudo R-squ.:               6.099e-05\n",
            "Time:                        10:32:52   Log-Likelihood:                -590.48\n",
            "converged:                       True   LL-Null:                       -590.52\n",
            "Covariance Type:            nonrobust   LLR p-value:                    0.7884\n",
            "================================================================================================\n",
            "                                   coef    std err          z      P>|z|      [0.025      0.975]\n",
            "------------------------------------------------------------------------------------------------\n",
            "Average Normalized Frequency   4.03e-06    1.5e-05      0.268      0.789   -2.54e-05    3.35e-05\n",
            "intercept                        1.0924      0.137      7.953      0.000       0.823       1.362\n",
            "================================================================================================\n"
          ]
        },
        {
          "output_type": "stream",
          "name": "stderr",
          "text": [
            "<ipython-input-11-40e3f5de74e5>:5: SettingWithCopyWarning: \n",
            "A value is trying to be set on a copy of a slice from a DataFrame.\n",
            "Try using .loc[row_indexer,col_indexer] = value instead\n",
            "\n",
            "See the caveats in the documentation: https://pandas.pydata.org/pandas-docs/stable/user_guide/indexing.html#returning-a-view-versus-a-copy\n",
            "  df['intercept'] = 1\n"
          ]
        }
      ]
    }
  ]
}