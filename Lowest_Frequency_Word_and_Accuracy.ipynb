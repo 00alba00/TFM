{
  "nbformat": 4,
  "nbformat_minor": 0,
  "metadata": {
    "colab": {
      "provenance": [],
      "collapsed_sections": [
        "MNENw_XJW7ur",
        "PhigYnNe9iAY",
        "NMrb5YtN2-5w",
        "rOrnyQBGfery",
        "6CzDc7TXlC5W",
        "PeNN1Qrh_aDm",
        "gaMv62ir5wCt",
        "iuaTXbEj5sUR"
      ],
      "authorship_tag": "ABX9TyOoGsQv5KhoQ/1wNtsFbLor",
      "include_colab_link": true
    },
    "kernelspec": {
      "name": "python3",
      "display_name": "Python 3"
    },
    "language_info": {
      "name": "python"
    }
  },
  "cells": [
    {
      "cell_type": "markdown",
      "metadata": {
        "id": "view-in-github",
        "colab_type": "text"
      },
      "source": [
        "<a href=\"https://colab.research.google.com/github/00alba00/TFM/blob/main/Lowest_Frequency_Word_and_Accuracy.ipynb\" target=\"_parent\"><img src=\"https://colab.research.google.com/assets/colab-badge.svg\" alt=\"Open In Colab\"/></a>"
      ]
    },
    {
      "cell_type": "markdown",
      "source": [
        "# **DATA PROCESSING**"
      ],
      "metadata": {
        "id": "6CzDc7TXlC5W"
      }
    },
    {
      "cell_type": "markdown",
      "source": [
        "Processing CREA_total"
      ],
      "metadata": {
        "id": "TYuCm75-NItN"
      }
    },
    {
      "cell_type": "code",
      "source": [
        "import pandas as pd\n",
        "\n",
        "# Read the file line by line\n",
        "with open('CREA_total.TXT', encoding='latin1') as file:\n",
        "    lines = file.readlines()\n",
        "\n",
        "# Remove the newline characters and strip spaces\n",
        "lines = [line.strip() for line in lines]\n",
        "\n",
        "# Skip the header line if it exists\n",
        "if lines[0].startswith('Orden'):\n",
        "    lines = lines[1:]\n",
        "\n",
        "# Convert to DataFrame\n",
        "crea_total = pd.DataFrame(lines, columns=['orden_frec_absoluta_frec_normalizada'])\n",
        "\n",
        "# Remove spaces within the column data\n",
        "crea_total['orden_frec_absoluta_frec_normalizada'] = crea_total['orden_frec_absoluta_frec_normalizada'].str.replace(\" \", \"\")\n",
        "\n",
        "# Split the column into separate columns using tab as delimiter\n",
        "crea_total[['ranking', 'palabra', 'frecuencia_absoluta', 'frecuencia_normalizada']] = crea_total['orden_frec_absoluta_frec_normalizada'].str.split('\\t', expand=True)\n",
        "\n",
        "# Drop any rows where the split was unsuccessful (e.g., header row)\n",
        "crea_total = crea_total.dropna()\n",
        "\n",
        "# Debugging: Check the DataFrame after splitting\n",
        "print(crea_total.head())\n",
        "\n",
        "# Convert 'ranking' to numeric type\n",
        "crea_total['ranking'] = pd.to_numeric(crea_total['ranking'], errors='coerce')\n",
        "\n",
        "# Remove commas from 'frecuencia_absoluta' and convert to numeric type\n",
        "crea_total['frecuencia_absoluta'] = crea_total['frecuencia_absoluta'].str.replace(\",\", \"\").astype(float)\n",
        "\n",
        "# Remove any unwanted characters from 'frecuencia_normalizada' and convert to numeric type\n",
        "crea_total['frecuencia_normalizada'] = crea_total['frecuencia_normalizada'].str.replace(\"\\u001a\", \"\").astype(float)\n",
        "\n",
        "# Debugging: Check the final DataFrame\n",
        "print(crea_total.head())\n",
        "\n",
        "# Save to CSV\n",
        "crea_total.to_csv(\"CREA_total.csv\", index=False)"
      ],
      "metadata": {
        "colab": {
          "base_uri": "https://localhost:8080/"
        },
        "id": "-kjiYzxkNUEV",
        "outputId": "d7e7b440-d37d-4aa4-cd2c-49cdb0573702"
      },
      "execution_count": null,
      "outputs": [
        {
          "output_type": "stream",
          "name": "stdout",
          "text": [
            "  orden_frec_absoluta_frec_normalizada ranking palabra frecuencia_absoluta  \\\n",
            "0          1.\\tde\\t9,999,518\\t65545.55      1.      de           9,999,518   \n",
            "1          2.\\tla\\t6,277,560\\t41148.59      2.      la           6,277,560   \n",
            "2         3.\\tque\\t4,681,839\\t30688.85      3.     que           4,681,839   \n",
            "3          4.\\tel\\t4,569,652\\t29953.48      4.      el           4,569,652   \n",
            "4          5.\\ten\\t4,234,281\\t27755.16      5.      en           4,234,281   \n",
            "\n",
            "  frecuencia_normalizada  \n",
            "0               65545.55  \n",
            "1               41148.59  \n",
            "2               30688.85  \n",
            "3               29953.48  \n",
            "4               27755.16  \n",
            "  orden_frec_absoluta_frec_normalizada  ranking palabra  frecuencia_absoluta  \\\n",
            "0          1.\\tde\\t9,999,518\\t65545.55      1.0      de            9999518.0   \n",
            "1          2.\\tla\\t6,277,560\\t41148.59      2.0      la            6277560.0   \n",
            "2         3.\\tque\\t4,681,839\\t30688.85      3.0     que            4681839.0   \n",
            "3          4.\\tel\\t4,569,652\\t29953.48      4.0      el            4569652.0   \n",
            "4          5.\\ten\\t4,234,281\\t27755.16      5.0      en            4234281.0   \n",
            "\n",
            "   frecuencia_normalizada  \n",
            "0                65545.55  \n",
            "1                41148.59  \n",
            "2                30688.85  \n",
            "3                29953.48  \n",
            "4                27755.16  \n"
          ]
        }
      ]
    },
    {
      "cell_type": "code",
      "source": [
        "crea_total= pd.read_csv(\"CREA_total.csv\")\n",
        "\n",
        "crea_total = crea_total.drop(columns=['orden_frec_absoluta_frec_normalizada', \"ranking\"])"
      ],
      "metadata": {
        "id": "-9XFSKcINZD1"
      },
      "execution_count": null,
      "outputs": []
    },
    {
      "cell_type": "markdown",
      "source": [
        "Calculating the lowest frequency word"
      ],
      "metadata": {
        "id": "wCnsNSr3lwxL"
      }
    },
    {
      "cell_type": "code",
      "source": [
        "import pandas as pd\n",
        "import re\n",
        "\n",
        "def tokenize_text(text):\n",
        "    # Use regular expression to split text into tokens based on whitespace and punctuation\n",
        "    tokens = re.findall(r'\\w+|[^\\w\\s]', text, re.UNICODE)\n",
        "    # Convert tokens to lowercase\n",
        "    tokens = [token.lower().strip() for token in tokens if token.isalnum()]\n",
        "    return tokens\n",
        "\n",
        "def tokenize_escola_file(filename):\n",
        "    # Read the CSV file into a DataFrame\n",
        "    df = pd.read_csv(filename)\n",
        "\n",
        "    # Tokenize each sentence in the \"Sentence\" column\n",
        "    df['Tokenized Sentence'] = df['Sentence'].apply(tokenize_text)\n",
        "\n",
        "    # Return the DataFrame with the tokenized sentences\n",
        "    return df[['ID', 'Tokenized Sentence']]\n",
        "\n",
        "\n",
        "filename = 'test_pred.csv'\n",
        "tokenized_data = tokenize_escola_file(filename)\n",
        "print(tokenized_data.head())"
      ],
      "metadata": {
        "colab": {
          "base_uri": "https://localhost:8080/"
        },
        "id": "EIx9vfH_lErl",
        "outputId": "54f3ae25-3ef9-4544-e60b-7175ce094698"
      },
      "execution_count": null,
      "outputs": [
        {
          "output_type": "stream",
          "name": "stdout",
          "text": [
            "             ID                                 Tokenized Sentence\n",
            "0  ESCoLA_10146                                  [qué, te, parece]\n",
            "1   ESCoLA_2419    [juan, es, el, chico, más, libros, que, compró]\n",
            "2   ESCoLA_4535  [escribió, la, carta, juan, o, la, tarjeta, pe...\n",
            "3   ESCoLA_7107  [los, mecánicos, arreglaron, la, puerta, y, la...\n",
            "4   ESCoLA_3032  [maría, quería, un, coche, y, se, le, hemos, r...\n"
          ]
        }
      ]
    },
    {
      "cell_type": "code",
      "source": [
        "import pandas as pd\n",
        "\n",
        "def calculate_norm_frequencies(tokenized_data_path, try_csv_path):\n",
        "\n",
        "    crea_total['palabra'] = crea_total['palabra'].str.strip().str.lower()\n",
        "\n",
        "    # Create a dictionary mapping words to relative frequencies\n",
        "    word_to_rel_freq = dict(zip(crea_total['palabra'], crea_total['frecuencia_normalizada']))\n",
        "\n",
        "    # Function to calculate normalized frequencies for a given tokenized sentence\n",
        "    def calculate_norm_freq(sentence):\n",
        "        return [word_to_rel_freq.get(token, 0.0) for token in sentence]\n",
        "\n",
        "    # Apply the function to each tokenized sentence and create a new column with the results\n",
        "    tokenized_data['Normalized Frequencies'] = tokenized_data['Tokenized Sentence'].apply(calculate_norm_freq)\n",
        "\n",
        "    return tokenized_data\n",
        "\n",
        "\n",
        "result = calculate_norm_frequencies(\"tokenized_data\", \"crea_total\")\n",
        "print(result)"
      ],
      "metadata": {
        "colab": {
          "base_uri": "https://localhost:8080/"
        },
        "id": "fjXaXYxtlq1M",
        "outputId": "ddac4152-27fb-4631-e08e-2614744a2d6f"
      },
      "execution_count": null,
      "outputs": [
        {
          "output_type": "stream",
          "name": "stdout",
          "text": [
            "                ID                                 Tokenized Sentence  \\\n",
            "0     ESCoLA_10146                                  [qué, te, parece]   \n",
            "1      ESCoLA_2419    [juan, es, el, chico, más, libros, que, compró]   \n",
            "2      ESCoLA_4535  [escribió, la, carta, juan, o, la, tarjeta, pe...   \n",
            "3      ESCoLA_7107  [los, mecánicos, arreglaron, la, puerta, y, la...   \n",
            "4      ESCoLA_3032  [maría, quería, un, coche, y, se, le, hemos, r...   \n",
            "...            ...                                                ...   \n",
            "1055  ESCoLA_10334         [fue, con, aquel, lápiz, con, que, dibujó]   \n",
            "1056   ESCoLA_3673  [un, futbolista, agredió, a, una, periodista, ...   \n",
            "1057   ESCoLA_4060  [durante, los, primeros, años, se, encargó, de...   \n",
            "1058   ESCoLA_1919                        [juan, es, un, poco, torpe]   \n",
            "1059    ESCoLA_512            [hay, un, cartel, fijo, por, el, bedel]   \n",
            "\n",
            "                                 Normalized Frequencies  \n",
            "0                             [1212.36, 786.92, 357.59]  \n",
            "1     [374.96, 6683.79, 29953.48, 36.91, 4337.33, 11...  \n",
            "2     [37.04, 41148.59, 119.41, 374.96, 3554.6, 4114...  \n",
            "3     [17164.95, 7.27, 0.68, 41148.59, 206.49, 27401...  \n",
            "4     [260.96, 123.4, 10879.95, 74.31, 27401.19, 132...  \n",
            "...                                                 ...  \n",
            "1055  [1466.92, 9711.74, 258.11, 8.04, 9711.74, 3068...  \n",
            "1056  [10879.95, 9.7, 0.92, 21375.03, 8833.36, 56.02...  \n",
            "1057  [734.27, 17164.95, 184.8, 1330.81, 13257.31, 1...  \n",
            "1058          [374.96, 6683.79, 10879.95, 604.39, 8.35]  \n",
            "1059  [1081.16, 10879.95, 20.3, 17.88, 10238.07, 299...  \n",
            "\n",
            "[1060 rows x 3 columns]\n"
          ]
        }
      ]
    },
    {
      "cell_type": "code",
      "source": [
        "import pandas as pd\n",
        "\n",
        "def find_lowest_freq(row):\n",
        "    frequencies = row['Normalized Frequencies']\n",
        "    lowest_freq = float('inf')  # Initialize with positive infinity\n",
        "    for freq in frequencies:\n",
        "        if freq >= 0 and freq < lowest_freq:\n",
        "            lowest_freq = freq\n",
        "    return lowest_freq if lowest_freq != float('inf') else 0.0\n",
        "\n",
        "def add_lowest_freq_column(df):\n",
        "    df['Lowest_Freq_Word'] = df.apply(find_lowest_freq, axis=1)\n",
        "    return df\n",
        "\n",
        "\n",
        "\n",
        "new_result = add_lowest_freq_column(result)\n",
        "print(result)"
      ],
      "metadata": {
        "colab": {
          "base_uri": "https://localhost:8080/"
        },
        "id": "tuDN0an2lvqo",
        "outputId": "07f765a0-8d5c-4443-e18c-d324c0573fed"
      },
      "execution_count": null,
      "outputs": [
        {
          "output_type": "stream",
          "name": "stdout",
          "text": [
            "                ID                                 Tokenized Sentence  \\\n",
            "0     ESCoLA_10146                                  [qué, te, parece]   \n",
            "1      ESCoLA_2419    [juan, es, el, chico, más, libros, que, compró]   \n",
            "2      ESCoLA_4535  [escribió, la, carta, juan, o, la, tarjeta, pe...   \n",
            "3      ESCoLA_7107  [los, mecánicos, arreglaron, la, puerta, y, la...   \n",
            "4      ESCoLA_3032  [maría, quería, un, coche, y, se, le, hemos, r...   \n",
            "...            ...                                                ...   \n",
            "1055  ESCoLA_10334         [fue, con, aquel, lápiz, con, que, dibujó]   \n",
            "1056   ESCoLA_3673  [un, futbolista, agredió, a, una, periodista, ...   \n",
            "1057   ESCoLA_4060  [durante, los, primeros, años, se, encargó, de...   \n",
            "1058   ESCoLA_1919                        [juan, es, un, poco, torpe]   \n",
            "1059    ESCoLA_512            [hay, un, cartel, fijo, por, el, bedel]   \n",
            "\n",
            "                                 Normalized Frequencies  Lowest_Freq_Word  \n",
            "0                             [1212.36, 786.92, 357.59]            357.59  \n",
            "1     [374.96, 6683.79, 29953.48, 36.91, 4337.33, 11...             13.24  \n",
            "2     [37.04, 41148.59, 119.41, 374.96, 3554.6, 4114...             29.68  \n",
            "3     [17164.95, 7.27, 0.68, 41148.59, 206.49, 27401...              0.68  \n",
            "4     [260.96, 123.4, 10879.95, 74.31, 27401.19, 132...              5.90  \n",
            "...                                                 ...               ...  \n",
            "1055  [1466.92, 9711.74, 258.11, 8.04, 9711.74, 3068...              2.42  \n",
            "1056  [10879.95, 9.7, 0.92, 21375.03, 8833.36, 56.02...              0.92  \n",
            "1057  [734.27, 17164.95, 184.8, 1330.81, 13257.31, 1...              7.68  \n",
            "1058          [374.96, 6683.79, 10879.95, 604.39, 8.35]              8.35  \n",
            "1059  [1081.16, 10879.95, 20.3, 17.88, 10238.07, 299...              0.74  \n",
            "\n",
            "[1060 rows x 4 columns]\n"
          ]
        }
      ]
    },
    {
      "cell_type": "markdown",
      "source": [
        "Calculating Accuracy"
      ],
      "metadata": {
        "id": "bKhZ67nNl2LD"
      }
    },
    {
      "cell_type": "code",
      "source": [
        "import pandas as pd\n",
        "\n",
        "def calculate_accuracy(df):\n",
        "    # Calculate accuracy for each row\n",
        "    accuracy = (df['xlm-roberta-large'] == df['Label']).astype(int)\n",
        "\n",
        "    # Add accuracy values to a new column\n",
        "    df['Accuracy'] = accuracy\n",
        "\n",
        "    # Return the DataFrame with Model, Label, and Accuracy columns\n",
        "    return df[[\"ID\", 'xlm-roberta-large', 'Label', 'Accuracy']]\n",
        "\n",
        "# Read the CSV file\n",
        "df = pd.read_csv('test_pred.csv')\n",
        "\n",
        "# Call the function to calculate accuracy\n",
        "result_df = calculate_accuracy(df)\n",
        "\n",
        "\n",
        "print(result_df)"
      ],
      "metadata": {
        "colab": {
          "base_uri": "https://localhost:8080/"
        },
        "id": "qRe-Qs1Nl34-",
        "outputId": "affd0cb8-cc48-49f1-8252-8305ae72d8b1"
      },
      "execution_count": null,
      "outputs": [
        {
          "output_type": "stream",
          "name": "stdout",
          "text": [
            "                ID  xlm-roberta-large  Label  Accuracy\n",
            "0     ESCoLA_10146                  1      0         0\n",
            "1      ESCoLA_2419                  1      1         1\n",
            "2      ESCoLA_4535                  0      1         0\n",
            "3      ESCoLA_7107                  0      0         1\n",
            "4      ESCoLA_3032                  0      0         1\n",
            "...            ...                ...    ...       ...\n",
            "1055  ESCoLA_10334                  1      1         1\n",
            "1056   ESCoLA_3673                  0      0         1\n",
            "1057   ESCoLA_4060                  0      0         1\n",
            "1058   ESCoLA_1919                  0      0         1\n",
            "1059    ESCoLA_512                  1      1         1\n",
            "\n",
            "[1060 rows x 4 columns]\n"
          ]
        }
      ]
    },
    {
      "cell_type": "markdown",
      "source": [
        "Merging dataframes"
      ],
      "metadata": {
        "id": "BkvHAmaml873"
      }
    },
    {
      "cell_type": "code",
      "source": [
        "import pandas as pd\n",
        "\n",
        "# Assuming you have your dataframes result and result_df already defined\n",
        "\n",
        "# Merge the two dataframes on the 'ID' column\n",
        "merged_df = pd.merge(result, result_df, on='ID', how='inner')\n",
        "\n",
        "# Selecting the desired columns\n",
        "new_df = merged_df[['ID', 'Lowest_Freq_Word', 'Accuracy']]\n",
        "\n",
        "\n",
        "print(new_df)"
      ],
      "metadata": {
        "colab": {
          "base_uri": "https://localhost:8080/"
        },
        "id": "V2kDtUH_l8Hh",
        "outputId": "3db058bd-7dea-4a2d-fa4e-49360ac606ae"
      },
      "execution_count": null,
      "outputs": [
        {
          "output_type": "stream",
          "name": "stdout",
          "text": [
            "                ID  Lowest_Freq_Word  Accuracy\n",
            "0     ESCoLA_10146            357.59         0\n",
            "1      ESCoLA_2419             13.24         1\n",
            "2      ESCoLA_4535             29.68         0\n",
            "3      ESCoLA_7107              0.68         1\n",
            "4      ESCoLA_3032              5.90         1\n",
            "...            ...               ...       ...\n",
            "1055  ESCoLA_10334              2.42         1\n",
            "1056   ESCoLA_3673              0.92         1\n",
            "1057   ESCoLA_4060              7.68         1\n",
            "1058   ESCoLA_1919              8.35         1\n",
            "1059    ESCoLA_512              0.74         1\n",
            "\n",
            "[1060 rows x 3 columns]\n"
          ]
        }
      ]
    },
    {
      "cell_type": "markdown",
      "source": [
        "# **EDA**"
      ],
      "metadata": {
        "id": "PeNN1Qrh_aDm"
      }
    },
    {
      "cell_type": "code",
      "source": [
        "import pandas as pd\n",
        "import numpy as np\n",
        "import matplotlib.pyplot as plt\n",
        "\n",
        "\n",
        "# Step 2: Descriptive Statistics\n",
        "# Lowest Frequency Word(Continuous Variable)\n",
        "plt.hist(new_df['Lowest_Freq_Word'], bins=30, edgecolor='k')\n",
        "plt.xlabel('Lowest Frequency Word')\n",
        "plt.ylabel('Frequency')\n",
        "plt.yscale('log') #Added the log function to see better the distribution\n",
        "plt.title('Distribution of Lowest Frequency Word')\n",
        "plt.show()\n",
        "\n",
        "Lowest_Freq_Word_median = new_df['Lowest_Freq_Word'].median()\n",
        "Lowest_Freq_Word_iqr = new_df['Lowest_Freq_Word'].quantile(0.75) - new_df['Lowest_Freq_Word'].quantile(0.25)\n",
        "print(f\"Median of Lowest Frequency Word: {Lowest_Freq_Word_median}\")\n",
        "print(f\"IQR of Lowest Frequency Word: {Lowest_Freq_Word_iqr}\")\n",
        "\n",
        "# Accuracy (Categorical Variable)\n",
        "accuracy_counts = new_df['Accuracy'].value_counts()\n",
        "accuracy_percentages = new_df['Accuracy'].value_counts(normalize=True) * 100\n",
        "print(\"Accuracy Counts:\\n\", accuracy_counts)\n",
        "print(\"Accuracy Percentages:\\n\", accuracy_percentages)\n",
        "\n",
        "# Step 3: Descriptive Statistics by Outcome Group\n",
        "grouped = new_df.groupby('Accuracy')\n",
        "\n",
        "# Average Normalized Frequency by Accuracy Status\n",
        "Lowest_Freq_Word_by_accuracy = grouped['Lowest_Freq_Word'].agg([np.median, lambda x: np.percentile(x, 75) - np.percentile(x, 25)])\n",
        "Lowest_Freq_Word_by_accuracy.columns = ['Median', 'IQR']\n",
        "print(\"Lowest Frequency Word by Accuracy Status:\\n\", avg_norm_freq_by_accuracy)\n"
      ],
      "metadata": {
        "colab": {
          "base_uri": "https://localhost:8080/"
        },
        "id": "Nhfxiffz_ger",
        "outputId": "39879d8a-9943-478b-cbd9-6e4dd4b15e1a"
      },
      "execution_count": null,
      "outputs": [
        {
          "output_type": "display_data",
          "data": {
            "text/plain": [
              "<Figure size 640x480 with 1 Axes>"
            ],
            "image/png": "[encoded data removed]"
          },
          "metadata": {}
        },
        {
          "output_type": "stream",
          "name": "stdout",
          "text": [
            "Median of Lowest Frequency Word: 6.95\n",
            "IQR of Lowest Frequency Word: 17.7875\n",
            "Accuracy Counts:\n",
            " Accuracy\n",
            "1    706\n",
            "0    354\n",
            "Name: count, dtype: int64\n",
            "Accuracy Percentages:\n",
            " Accuracy\n",
            "1    66.603774\n",
            "0    33.396226\n",
            "Name: proportion, dtype: float64\n",
            "Lowest Frequency Word by Accuracy Status:\n",
            "                Median          IQR\n",
            "Accuracy                          \n",
            "0         7350.354659  6005.872655\n",
            "1         7471.424722  6709.478000\n"
          ]
        }
      ]
    },
    {
      "cell_type": "markdown",
      "source": [
        "# **ASSUMPTIONS CHECK**"
      ],
      "metadata": {
        "id": "gaMv62ir5wCt"
      }
    },
    {
      "cell_type": "markdown",
      "source": [
        "Step 1: Independence of Observations Ensure your data collection process guarantees independence. This step is not typically performed in code but through design and documentation."
      ],
      "metadata": {
        "id": "v2vQasVd55mp"
      }
    },
    {
      "cell_type": "markdown",
      "source": [
        "Step 2: Multicollinearity Check\n",
        "\n",
        "Step 3: Linearity of Continuous Predictors"
      ],
      "metadata": {
        "id": "KaMKdblx59jn"
      }
    },
    {
      "cell_type": "code",
      "source": [
        "import pandas as pd\n",
        "import statsmodels.api as sm\n",
        "from statsmodels.stats.outliers_influence import variance_inflation_factor\n",
        "import matplotlib.pyplot as plt\n",
        "import seaborn as sns\n",
        "from sklearn.linear_model import LogisticRegression\n",
        "import numpy as np\n",
        "\n",
        "# Checking multicollinearity\n",
        "# Adding a constant to the independent variable\n",
        "X = new_df[['Lowest_Freq_Word']]\n",
        "X = sm.add_constant(X)\n",
        "\n",
        "# Fitting the model\n",
        "model = sm.Logit(new_df['Accuracy'], X).fit()\n",
        "\n",
        "# Calculating VIF for each predictor\n",
        "vif_data = pd.DataFrame()\n",
        "vif_data[\"feature\"] = X.columns\n",
        "vif_data[\"VIF\"] = [variance_inflation_factor(X.values, i) for i in range(X.shape[1])]\n",
        "\n",
        "print(\"VIF Values:\")\n",
        "print(vif_data)\n",
        "\n",
        "# Check linearity assumption\n",
        "# Adding a column for log-odds\n",
        "new_df.loc[:, 'log_odds'] = model.predict(X)\n",
        "\n",
        "# Plotting with LOESS and Linear regression lines\n",
        "sns.scatterplot(x='Lowest_Freq_Word', y='log_odds', data=new_df)\n",
        "\n",
        "# Adding a linear fit\n",
        "sns.regplot(x='Lowest_Freq_Word', y='log_odds', data=new_df, scatter=False, color='red', label='Linear fit')\n",
        "\n",
        "# Adding a loess curve\n",
        "loess = sm.nonparametric.lowess\n",
        "loess_result = loess(new_df['log_odds'], new_df['Lowest_Freq_Word'], frac=0.3)\n",
        "plt.plot(loess_result[:, 0], loess_result[:, 1], color='blue', label='LOESS curve')\n",
        "\n",
        "plt.title('Linearity Check for Lowest Frequency Word')\n",
        "plt.xlabel('Lowest Frequency Word')\n",
        "plt.ylabel('Log-Odds')\n",
        "plt.legend()\n",
        "plt.show()\n"
      ],
      "metadata": {
        "colab": {
          "base_uri": "https://localhost:8080/"
        },
        "id": "PbBk9nfr5yp6",
        "outputId": "956a65f2-418a-48d7-d295-753128cc1167"
      },
      "execution_count": null,
      "outputs": [
        {
          "output_type": "stream",
          "name": "stdout",
          "text": [
            "Optimization terminated successfully.\n",
            "         Current function value: 0.636403\n",
            "         Iterations 4\n",
            "VIF Values:\n",
            "            feature      VIF\n",
            "0             const  1.20317\n",
            "1  Lowest_Freq_Word  1.00000\n"
          ]
        },
        {
          "output_type": "stream",
          "name": "stderr",
          "text": [
            "<ipython-input-20-f73a2522b9bf>:27: SettingWithCopyWarning: \n",
            "A value is trying to be set on a copy of a slice from a DataFrame.\n",
            "Try using .loc[row_indexer,col_indexer] = value instead\n",
            "\n",
            "See the caveats in the documentation: https://pandas.pydata.org/pandas-docs/stable/user_guide/indexing.html#returning-a-view-versus-a-copy\n",
            "  new_df.loc[:, 'log_odds'] = model.predict(X)\n"
          ]
        },
        {
          "output_type": "display_data",
          "data": {
            "text/plain": [
              "<Figure size 640x480 with 1 Axes>"
            ],
            "image/png": "[encoded data removed]"
          },
          "metadata": {}
        }
      ]
    },
    {
      "cell_type": "markdown",
      "source": [
        "# **Logistic Regression Model**"
      ],
      "metadata": {
        "id": "iuaTXbEj5sUR"
      }
    },
    {
      "cell_type": "markdown",
      "source": [
        "Applying a Logistic Regression Model"
      ],
      "metadata": {
        "id": "uNTMhv9omTiZ"
      }
    },
    {
      "cell_type": "code",
      "source": [
        "import statsmodels.api as sm\n",
        "\n",
        "def logistic_regression(df):\n",
        "    # Add constant term for intercept\n",
        "    df['intercept'] = 1\n",
        "\n",
        "    # Define independent and dependent variables\n",
        "    X = df[['Lowest_Freq_Word', 'intercept']]\n",
        "    y = df['Accuracy']\n",
        "\n",
        "    # Fit logistic regression model\n",
        "    logit_model = sm.Logit(y, X)\n",
        "    result = logit_model.fit()\n",
        "\n",
        "    return result\n",
        "\n",
        "\n",
        "result = logistic_regression(new_df)\n",
        "print(result.summary())"
      ],
      "metadata": {
        "colab": {
          "base_uri": "https://localhost:8080/"
        },
        "id": "VJeINKJLumhx",
        "outputId": "351c8fd0-db69-4245-bf57-1ce704794bd2"
      },
      "execution_count": null,
      "outputs": [
        {
          "output_type": "stream",
          "name": "stdout",
          "text": [
            "Optimization terminated successfully.\n",
            "         Current function value: 0.636403\n",
            "         Iterations 4\n",
            "                           Logit Regression Results                           \n",
            "==============================================================================\n",
            "Dep. Variable:               Accuracy   No. Observations:                 1060\n",
            "Model:                          Logit   Df Residuals:                     1058\n",
            "Method:                           MLE   Df Model:                            1\n",
            "Date:                Mon, 17 Jun 2024   Pseudo R-squ.:               0.0008571\n",
            "Time:                        10:55:38   Log-Likelihood:                -674.59\n",
            "converged:                       True   LL-Null:                       -675.17\n",
            "Covariance Type:            nonrobust   LLR p-value:                    0.2820\n",
            "====================================================================================\n",
            "                       coef    std err          z      P>|z|      [0.025      0.975]\n",
            "------------------------------------------------------------------------------------\n",
            "Lowest_Freq_Word    -0.0014      0.001     -1.083      0.279      -0.004       0.001\n",
            "intercept            0.7216      0.071     10.097      0.000       0.582       0.862\n",
            "====================================================================================\n"
          ]
        },
        {
          "output_type": "stream",
          "name": "stderr",
          "text": [
            "<ipython-input-21-d3b96f157b5d>:5: SettingWithCopyWarning: \n",
            "A value is trying to be set on a copy of a slice from a DataFrame.\n",
            "Try using .loc[row_indexer,col_indexer] = value instead\n",
            "\n",
            "See the caveats in the documentation: https://pandas.pydata.org/pandas-docs/stable/user_guide/indexing.html#returning-a-view-versus-a-copy\n",
            "  df['intercept'] = 1\n"
          ]
        }
      ]
    }
  ]
}