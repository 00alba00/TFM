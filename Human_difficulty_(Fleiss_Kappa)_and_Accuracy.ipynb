{
  "nbformat": 4,
  "nbformat_minor": 0,
  "metadata": {
    "colab": {
      "provenance": [],
      "collapsed_sections": [
        "Q3c39440hRjQ",
        "0yxLLSVmB9In",
        "1iJSA6DiH3We",
        "tZy5RemYHpPr",
        "gKxS6grwiHd2"
      ],
      "authorship_tag": "ABX9TyMbmUeeaTQhM3MbjB1mJxZN",
      "include_colab_link": true
    },
    "kernelspec": {
      "name": "python3",
      "display_name": "Python 3"
    },
    "language_info": {
      "name": "python"
    }
  },
  "cells": [
    {
      "cell_type": "markdown",
      "metadata": {
        "id": "view-in-github",
        "colab_type": "text"
      },
      "source": [
        "<a href=\"https://colab.research.google.com/github/00alba00/TFM/blob/main/Human_difficulty_(Fleiss_Kappa)_and_Accuracy.ipynb\" target=\"_parent\"><img src=\"https://colab.research.google.com/assets/colab-badge.svg\" alt=\"Open In Colab\"/></a>"
      ]
    },
    {
      "cell_type": "markdown",
      "source": [
        "# **DATA PROCESSING**"
      ],
      "metadata": {
        "id": "Q3c39440hRjQ"
      }
    },
    {
      "cell_type": "markdown",
      "source": [
        "Calculating Fleiss Kappa for every category"
      ],
      "metadata": {
        "id": "dG0jWazl_Tky"
      }
    },
    {
      "cell_type": "code",
      "execution_count": null,
      "metadata": {
        "colab": {
          "base_uri": "https://localhost:8080/"
        },
        "id": "rUuDWpJD-557",
        "outputId": "ac8986bc-c4c9-4cbe-9f23-42f391515731"
      },
      "outputs": [
        {
          "output_type": "stream",
          "name": "stdout",
          "text": [
            "            ID COLA-ES Annotator_1 Annotator_2 Annotator_3\n",
            "0  ESCoLA_3533       1           0           1           1\n",
            "1  ESCoLA_1993       1           0           0           0\n",
            "2  ESCoLA_3940       1           0           0           0\n",
            "3   ESCoLA_582       1           0           0           0\n",
            "4  ESCoLA_3802       1           0           0           0\n"
          ]
        }
      ],
      "source": [
        "import pandas as pd\n",
        "\n",
        "def organize_data(data_file):\n",
        "    # Read the data from the file into a DataFrame\n",
        "    df = pd.read_csv(data_file)\n",
        "\n",
        "    # Initialize an empty DataFrame to store the organized data\n",
        "    organized_df = pd.DataFrame(columns=[\"ID\", 'COLA-ES', 'Annotator_1', 'Annotator_2', 'Annotator_3'])\n",
        "\n",
        "    # Iterate over each category from 1 to 14\n",
        "    for category in range(1, 15):\n",
        "        # Filter the DataFrame to include only rows with the current category\n",
        "        category_df = df[df['COLA-ES'] == category]\n",
        "\n",
        "        # Concatenate the filtered DataFrame to the organized DataFrame\n",
        "        organized_df = pd.concat([organized_df, category_df[[\"ID\",'COLA-ES', 'Annotator_1', 'Annotator_2', 'Annotator_3']]])\n",
        "\n",
        "    # Reset the index of the organized DataFrame\n",
        "    organized_df.reset_index(drop=True, inplace=True)\n",
        "\n",
        "    return organized_df\n",
        "\n",
        "\n",
        "organized_data_df = organize_data(\"test_pred.csv\")\n",
        "print(organized_data_df.head())"
      ]
    },
    {
      "cell_type": "code",
      "source": [
        "import pandas as pd\n",
        "\n",
        "# Group the DataFrame by the \"Category\" column\n",
        "grouped_data = organized_data_df.groupby(\"COLA-ES\")\n",
        "\n",
        "# Iterate over each group and save it to a CSV file\n",
        "for category, data in grouped_data:\n",
        "    # Create a filename based on the category\n",
        "    filename = f\"{category}_data.csv\"\n",
        "    # Save the data to a CSV file\n",
        "    data.to_csv(filename, index=False)"
      ],
      "metadata": {
        "id": "PHYMHZoN_bjO"
      },
      "execution_count": null,
      "outputs": []
    },
    {
      "cell_type": "code",
      "source": [
        "import numpy as np\n",
        "\n",
        "def fleiss_kappa(data):\n",
        "    \"\"\"\n",
        "    Calculate Fleiss' Kappa for categorical ratings using NumPy.\n",
        "\n",
        "    Parameters:\n",
        "    - data: 2D array or DataFrame where rows are items and columns are raters.\n",
        "\n",
        "    Returns:\n",
        "    - Fleiss' Kappa coefficient.\n",
        "    \"\"\"\n",
        "\n",
        "    # Count the number of items and raters\n",
        "    num_items, num_raters = data.shape\n",
        "\n",
        "    # Count the number of unique categories\n",
        "    num_categories = np.max(data) + 1\n",
        "\n",
        "    # Compute the rating frequencies for each item\n",
        "    rating_freq = np.zeros((num_items, num_categories))\n",
        "    for i in range(num_items):\n",
        "        for j in range(num_raters):\n",
        "            rating_freq[i, data[i, j]] += 1\n",
        "\n",
        "    # Compute the agreement matrix\n",
        "    agreement_matrix = np.sum(rating_freq * (rating_freq - 1), axis=1)\n",
        "    agreement_matrix /= num_raters * (num_raters - 1)\n",
        "\n",
        "    # Compute observed agreement\n",
        "    observed_agreement = np.mean(agreement_matrix)\n",
        "\n",
        "    # Compute chance agreement\n",
        "    p_i = np.sum(rating_freq, axis=0) / (num_items * num_raters)\n",
        "    chance_agreement = np.sum(p_i ** 2)\n",
        "\n",
        "    # Compute Fleiss' Kappa\n",
        "    kappa = (observed_agreement - chance_agreement) / (1 - chance_agreement)\n",
        "\n",
        "    return kappa"
      ],
      "metadata": {
        "id": "XF9S6sEc_eDF"
      },
      "execution_count": null,
      "outputs": []
    },
    {
      "cell_type": "code",
      "source": [
        "import pandas as pd\n",
        "\n",
        "data = pd.read_csv(\"14_data.csv\")\n",
        "\n",
        "# Extracting relevant columns\n",
        "ratings = data[[\"Annotator_1\", \"Annotator_2\", \"Annotator_3\"]].to_numpy()\n",
        "\n",
        "# Calculating Fleiss' Kappa\n",
        "kappa = fleiss_kappa(ratings)\n",
        "print(\"Fleiss' Kappa:\", kappa)"
      ],
      "metadata": {
        "colab": {
          "base_uri": "https://localhost:8080/"
        },
        "id": "lKB-e1Zv_gZ8",
        "outputId": "ded52dac-bd29-4247-8249-35e4befe1a32"
      },
      "execution_count": null,
      "outputs": [
        {
          "output_type": "stream",
          "name": "stdout",
          "text": [
            "Fleiss' Kappa: 0.668179987551715\n"
          ]
        }
      ]
    },
    {
      "cell_type": "code",
      "source": [
        "import pandas as pd\n",
        "\n",
        "data = {\n",
        "    \"COLA-ES\": list(range(1, 15)),\n",
        "    \"Fleiss Kappa\": [\n",
        "        0.6273291925465836,\n",
        "        0.7691197691197689,\n",
        "        0.5874775985663083,\n",
        "        0.6838814265863827,\n",
        "        0.4731182795698928,\n",
        "        0.5630236100533134,\n",
        "        0.5584249360036139,\n",
        "        0.5707472178060412,\n",
        "        0.720803864067621,\n",
        "        0.7308080808080807,\n",
        "        0.5648148148148152,\n",
        "        0.6558811558811561,\n",
        "        0.6563533301842228,\n",
        "        0.668179987551715\n",
        "    ]\n",
        "}\n",
        "\n",
        "df = pd.DataFrame(data)\n",
        "print(df)"
      ],
      "metadata": {
        "colab": {
          "base_uri": "https://localhost:8080/"
        },
        "id": "aZ5_iBsc_ifA",
        "outputId": "25d3b3da-e9fe-4a0d-b0f0-3710f47fbd75"
      },
      "execution_count": null,
      "outputs": [
        {
          "output_type": "stream",
          "name": "stdout",
          "text": [
            "    COLA-ES  Fleiss Kappa\n",
            "0         1      0.627329\n",
            "1         2      0.769120\n",
            "2         3      0.587478\n",
            "3         4      0.683881\n",
            "4         5      0.473118\n",
            "5         6      0.563024\n",
            "6         7      0.558425\n",
            "7         8      0.570747\n",
            "8         9      0.720804\n",
            "9        10      0.730808\n",
            "10       11      0.564815\n",
            "11       12      0.655881\n",
            "12       13      0.656353\n",
            "13       14      0.668180\n"
          ]
        }
      ]
    },
    {
      "cell_type": "markdown",
      "source": [
        "Calculating the Accuracy for every category"
      ],
      "metadata": {
        "id": "3dZ8tZLs_k9e"
      }
    },
    {
      "cell_type": "code",
      "source": [
        "import pandas as pd\n",
        "\n",
        "def organize_data(data_file):\n",
        "    # Read the data from the file into a DataFrame\n",
        "    df = pd.read_csv(data_file)\n",
        "\n",
        "    # Initialize an empty DataFrame to store the organized data\n",
        "    organized_df = pd.DataFrame(columns=[\"ID\", 'COLA-ES', \"roberta-large-bne\", \"Label\"])\n",
        "\n",
        "    # Iterate over each category from 1 to 14\n",
        "    for category in range(1, 15):\n",
        "        # Filter the DataFrame to include only rows with the current category\n",
        "        category_df = df[df['COLA-ES'] == category]\n",
        "\n",
        "        # Concatenate the filtered DataFrame to the organized DataFrame\n",
        "        organized_df = pd.concat([organized_df, category_df[[\"ID\", 'COLA-ES', \"roberta-large-bne\", \"Label\"]]])\n",
        "\n",
        "    # Reset the index of the organized DataFrame\n",
        "    organized_df.reset_index(drop=True, inplace=True)\n",
        "\n",
        "    return organized_df\n",
        "\n",
        "\n",
        "organized_data_df_2 = organize_data(\"test_pred.csv\")\n",
        "print(organized_data_df_2.head())"
      ],
      "metadata": {
        "colab": {
          "base_uri": "https://localhost:8080/"
        },
        "id": "X-TafX45_nxB",
        "outputId": "4d4952c0-34ca-4911-a059-f184e4fcf3f3"
      },
      "execution_count": null,
      "outputs": [
        {
          "output_type": "stream",
          "name": "stdout",
          "text": [
            "            ID COLA-ES roberta-large-bne Label\n",
            "0  ESCoLA_3533       1                 0     1\n",
            "1  ESCoLA_1993       1                 0     0\n",
            "2  ESCoLA_3940       1                 0     0\n",
            "3   ESCoLA_582       1                 0     0\n",
            "4  ESCoLA_3802       1                 0     0\n"
          ]
        }
      ]
    },
    {
      "cell_type": "code",
      "source": [
        "import pandas as pd\n",
        "\n",
        "# Group the DataFrame by the \"Category\" column\n",
        "grouped_data = organized_data_df_2.groupby(\"COLA-ES\")\n",
        "\n",
        "# Iterate over each group and save it to a CSV file\n",
        "for category, data in grouped_data:\n",
        "    # Create a filename based on the category\n",
        "    filename = f\"{category}_data.csv\"\n",
        "    # Save the data to a CSV file\n",
        "    data.to_csv(filename, index=False)"
      ],
      "metadata": {
        "id": "hXgbcLjO_rzp"
      },
      "execution_count": null,
      "outputs": []
    },
    {
      "cell_type": "code",
      "source": [
        "import pandas as pd\n",
        "from sklearn.metrics import accuracy_score\n",
        "\n",
        "def calculate_accuracy(csv_file):\n",
        "    # Read the CSV file into a DataFrame\n",
        "    df = pd.read_csv(csv_file)\n",
        "\n",
        "    # Extract the model predictions and true labels\n",
        "    predictions = df['roberta-large-bne']\n",
        "    true_labels = df['Label']\n",
        "\n",
        "    # Calculate accuracy\n",
        "    accuracy = accuracy_score(true_labels, predictions)\n",
        "\n",
        "    return accuracy\n",
        "\n",
        "\n",
        "accuracy = calculate_accuracy(\"14_data.csv\")\n",
        "print(\"Accuracy:\", accuracy)"
      ],
      "metadata": {
        "colab": {
          "base_uri": "https://localhost:8080/"
        },
        "id": "NW9kjLN1_uZT",
        "outputId": "f766ee61-7ea9-4e2f-9837-81ab203d9069"
      },
      "execution_count": null,
      "outputs": [
        {
          "output_type": "stream",
          "name": "stdout",
          "text": [
            "Accuracy: 0.7044025157232704\n"
          ]
        }
      ]
    },
    {
      "cell_type": "code",
      "source": [
        "#roberta-large-bne\n",
        "import pandas as pd\n",
        "\n",
        "data = {\n",
        "    \"COLA-ES\": list(range(1, 15)),\n",
        "    \"Accuracy\": [\n",
        "        0.8, 0.85, 0.7874015748031497, 0.8153846153846154,\n",
        "        0.7346938775510204, 0.6078431372549019, 0.7565217391304347,\n",
        "        0.75, 0.8192771084337349, 0.8048780487804879, 0.8723404255319149,\n",
        "        0.7528089887640449, 0.6391752577319587, 0.7044025157232704\n",
        "    ]\n",
        "}\n",
        "\n",
        "df_2 = pd.DataFrame(data)\n",
        "\n",
        "print(df_2)"
      ],
      "metadata": {
        "colab": {
          "base_uri": "https://localhost:8080/"
        },
        "id": "ZFG3lpOb_wY8",
        "outputId": "b6ada8b1-1e3a-4082-ad74-0cd4694a53f8"
      },
      "execution_count": null,
      "outputs": [
        {
          "output_type": "stream",
          "name": "stdout",
          "text": [
            "    COLA-ES  Accuracy\n",
            "0         1  0.800000\n",
            "1         2  0.850000\n",
            "2         3  0.787402\n",
            "3         4  0.815385\n",
            "4         5  0.734694\n",
            "5         6  0.607843\n",
            "6         7  0.756522\n",
            "7         8  0.750000\n",
            "8         9  0.819277\n",
            "9        10  0.804878\n",
            "10       11  0.872340\n",
            "11       12  0.752809\n",
            "12       13  0.639175\n",
            "13       14  0.704403\n"
          ]
        }
      ]
    },
    {
      "cell_type": "markdown",
      "source": [
        "Merging the dataframes"
      ],
      "metadata": {
        "id": "TVe6Tv0e_8FF"
      }
    },
    {
      "cell_type": "code",
      "source": [
        "import pandas as pd\n",
        "\n",
        "# Merge the two dataframes on the \"COLA-ES\" column\n",
        "merged_df = pd.merge(df, df_2, on=\"COLA-ES\", how=\"left\")\n",
        "\n",
        "# reorder the columns\n",
        "merged_df = merged_df[[\"COLA-ES\", \"Fleiss Kappa\", \"Accuracy\"]]\n",
        "\n",
        "# Display the resulting dataframe\n",
        "print(merged_df)"
      ],
      "metadata": {
        "colab": {
          "base_uri": "https://localhost:8080/"
        },
        "id": "2mcGNuRl_96_",
        "outputId": "68c16576-f288-448b-deaa-d98f32d495fe"
      },
      "execution_count": null,
      "outputs": [
        {
          "output_type": "stream",
          "name": "stdout",
          "text": [
            "    COLA-ES  Fleiss Kappa  Accuracy\n",
            "0         1      0.627329  0.800000\n",
            "1         2      0.769120  0.850000\n",
            "2         3      0.587478  0.787402\n",
            "3         4      0.683881  0.815385\n",
            "4         5      0.473118  0.734694\n",
            "5         6      0.563024  0.607843\n",
            "6         7      0.558425  0.756522\n",
            "7         8      0.570747  0.750000\n",
            "8         9      0.720804  0.819277\n",
            "9        10      0.730808  0.804878\n",
            "10       11      0.564815  0.872340\n",
            "11       12      0.655881  0.752809\n",
            "12       13      0.656353  0.639175\n",
            "13       14      0.668180  0.704403\n"
          ]
        }
      ]
    },
    {
      "cell_type": "markdown",
      "source": [
        "# **EDA**"
      ],
      "metadata": {
        "id": "0yxLLSVmB9In"
      }
    },
    {
      "cell_type": "code",
      "source": [
        "import pandas as pd\n",
        "import numpy as np\n",
        "import matplotlib.pyplot as plt\n",
        "\n",
        "\n",
        "# Step 1: Descriptive Statistics\n",
        "# Fleiss Kappa\n",
        "plt.hist(merged_df['Fleiss Kappa'], bins=10, edgecolor='k')\n",
        "plt.xlabel('Fleiss Kappa')\n",
        "plt.ylabel('Frequency')\n",
        "plt.title('Distribution of Fleiss Kappa')\n",
        "plt.show()\n",
        "\n",
        "fleiss_kappa_mean = merged_df['Fleiss Kappa'].mean()\n",
        "fleiss_kappa_std = merged_df['Fleiss Kappa'].std()\n",
        "print(f\"Mean of Fleiss Kappa: {fleiss_kappa_mean}\")\n",
        "print(f\"Standard Deviation of Fleiss Kappa: {fleiss_kappa_std}\")\n",
        "\n",
        "# Accuracy\n",
        "plt.hist(merged_df['Accuracy'], bins=10, edgecolor='k')\n",
        "plt.xlabel('Accuracy')\n",
        "plt.ylabel('Frequency')\n",
        "plt.title('Distribution of Accuracy')\n",
        "plt.show()\n",
        "\n",
        "accuracy_mean = merged_df['Accuracy'].mean()\n",
        "accuracy_std = merged_df['Accuracy'].std()\n",
        "print(f\"Mean of Accuracy: {accuracy_mean}\")\n",
        "print(f\"Standard Deviation of Accuracy: {accuracy_std}\")\n",
        "\n",
        "# Step 2: Exploring Relationships Between Variables\n",
        "plt.scatter(merged_df['Fleiss Kappa'], merged_df['Accuracy'])\n",
        "plt.xlabel('Fleiss Kappa')\n",
        "plt.ylabel('Accuracy')\n",
        "plt.title('Fleiss Kappa vs Accuracy')\n",
        "plt.show()\n",
        "\n",
        "# Step 3: Interpretation and Preliminary Insights\n",
        "correlation = merged_df['Fleiss Kappa'].corr(merged_df['Accuracy'])\n",
        "print(f\"Correlation between Fleiss Kappa and Accuracy: {correlation}\")\n",
        "\n"
      ],
      "metadata": {
        "colab": {
          "base_uri": "https://localhost:8080/",
          "height": 1000
        },
        "id": "KnfXsSm5Ckkl",
        "outputId": "684356ae-8d11-4914-cbd7-831eaa99b3d9"
      },
      "execution_count": null,
      "outputs": [
        {
          "output_type": "display_data",
          "data": {
            "text/plain": [
              "<Figure size 640x480 with 1 Axes>"
            ],
            "image/png": "[encoded data removed]"
          },
          "metadata": {}
        },
        {
          "output_type": "stream",
          "name": "stdout",
          "text": [
            "Mean of Fleiss Kappa: 0.6307116616828224\n",
            "Standard Deviation of Fleiss Kappa: 0.08193621890874489\n"
          ]
        },
        {
          "output_type": "display_data",
          "data": {
            "text/plain": [
              "<Figure size 640x480 with 1 Axes>"
            ],
            "image/png": "[encoded data removed]"
          },
          "metadata": {}
        },
        {
          "output_type": "stream",
          "name": "stdout",
          "text": [
            "Mean of Accuracy: 0.7639090920778238\n",
            "Standard Deviation of Accuracy: 0.07498624090366876\n"
          ]
        },
        {
          "output_type": "display_data",
          "data": {
            "text/plain": [
              "<Figure size 640x480 with 1 Axes>"
            ],
            "image/png": "[encoded data removed]"
          },
          "metadata": {}
        },
        {
          "output_type": "stream",
          "name": "stdout",
          "text": [
            "Correlation between Fleiss Kappa and Accuracy: 0.32911260086322386\n"
          ]
        }
      ]
    },
    {
      "cell_type": "markdown",
      "source": [
        "# **ASSUMPTIONS CHECK**"
      ],
      "metadata": {
        "id": "1iJSA6DiH3We"
      }
    },
    {
      "cell_type": "code",
      "source": [
        "import pandas as pd\n",
        "import numpy as np\n",
        "import matplotlib.pyplot as plt\n",
        "import seaborn as sns\n",
        "import statsmodels.api as sm\n",
        "from statsmodels.stats.stattools import durbin_watson\n",
        "\n",
        "\n",
        "# Step 1: Scatter Plot for Linearity\n",
        "plt.scatter(merged_df['Fleiss Kappa'], merged_df['Accuracy'])\n",
        "plt.xlabel('Fleiss Kappa')\n",
        "plt.ylabel('Accuracy')\n",
        "plt.title('Scatter Plot for Linearity Check')\n",
        "plt.show()\n",
        "\n",
        "# Fit the model\n",
        "X = merged_df['Fleiss Kappa']\n",
        "y = merged_df['Accuracy']\n",
        "X_with_const = sm.add_constant(X)\n",
        "model = sm.OLS(y, X_with_const).fit()\n",
        "\n",
        "# Step 2: Residual Plot for Homoscedasticity\n",
        "residuals = model.resid\n",
        "plt.scatter(merged_df['Fleiss Kappa'], residuals)\n",
        "plt.axhline(0, color='red', linestyle='--')\n",
        "plt.xlabel('Fleiss Kappa')\n",
        "plt.ylabel('Residuals')\n",
        "plt.title('Residual Plot for Homoscedasticity Check')\n",
        "plt.show()\n",
        "\n",
        "# Step 3: Histogram and QQ Plot for Normality of Residuals\n",
        "sns.histplot(residuals, kde=True)\n",
        "plt.xlabel('Residuals')\n",
        "plt.title('Histogram of Residuals')\n",
        "plt.show()\n",
        "\n",
        "sm.qqplot(residuals, line='45')\n",
        "plt.title('QQ Plot of Residuals')\n",
        "plt.show()\n",
        "\n",
        "# Step 4: Durbin-Watson Test for Independence of Errors\n",
        "dw_stat = durbin_watson(residuals)\n",
        "print(f'Durbin-Watson statistic: {dw_stat}')\n"
      ],
      "metadata": {
        "colab": {
          "base_uri": "https://localhost:8080/"
        },
        "id": "2yADBf8lH7Tp",
        "outputId": "8a907a79-ccbf-4d06-b91c-e239647190b6"
      },
      "execution_count": null,
      "outputs": [
        {
          "output_type": "display_data",
          "data": {
            "text/plain": [
              "<Figure size 640x480 with 1 Axes>"
            ],
            "image/png": "[encoded data removed]"
          },
          "metadata": {}
        },
        {
          "output_type": "display_data",
          "data": {
            "text/plain": [
              "<Figure size 640x480 with 1 Axes>"
            ],
            "image/png": "[encoded data removed]"
          },
          "metadata": {}
        },
        {
          "output_type": "display_data",
          "data": {
            "text/plain": [
              "<Figure size 640x480 with 1 Axes>"
            ],
            "image/png": "[encoded data removed]"
          },
          "metadata": {}
        },
        {
          "output_type": "display_data",
          "data": {
            "text/plain": [
              "<Figure size 640x480 with 1 Axes>"
            ],
            "image/png": "[encoded data removed]"
          },
          "metadata": {}
        },
        {
          "output_type": "stream",
          "name": "stdout",
          "text": [
            "Durbin-Watson statistic: 1.5304494543048834\n"
          ]
        }
      ]
    },
    {
      "cell_type": "markdown",
      "source": [
        "# **Simple Linear Regression Model**"
      ],
      "metadata": {
        "id": "tZy5RemYHpPr"
      }
    },
    {
      "cell_type": "markdown",
      "source": [
        "Applying the Simple Linear Regression Model"
      ],
      "metadata": {
        "id": "353aCsBn_2tt"
      }
    },
    {
      "cell_type": "code",
      "source": [
        "!pip install statsmodels"
      ],
      "metadata": {
        "colab": {
          "base_uri": "https://localhost:8080/"
        },
        "id": "C900gBeaAaJb",
        "outputId": "ab808792-704d-41fa-b0e9-5726bad05edc"
      },
      "execution_count": null,
      "outputs": [
        {
          "output_type": "stream",
          "name": "stdout",
          "text": [
            "Requirement already satisfied: statsmodels in /usr/local/lib/python3.10/dist-packages (0.14.2)\n",
            "Requirement already satisfied: numpy>=1.22.3 in /usr/local/lib/python3.10/dist-packages (from statsmodels) (1.25.2)\n",
            "Requirement already satisfied: scipy!=1.9.2,>=1.8 in /usr/local/lib/python3.10/dist-packages (from statsmodels) (1.11.4)\n",
            "Requirement already satisfied: pandas!=2.1.0,>=1.4 in /usr/local/lib/python3.10/dist-packages (from statsmodels) (2.0.3)\n",
            "Requirement already satisfied: patsy>=0.5.6 in /usr/local/lib/python3.10/dist-packages (from statsmodels) (0.5.6)\n",
            "Requirement already satisfied: packaging>=21.3 in /usr/local/lib/python3.10/dist-packages (from statsmodels) (24.0)\n",
            "Requirement already satisfied: python-dateutil>=2.8.2 in /usr/local/lib/python3.10/dist-packages (from pandas!=2.1.0,>=1.4->statsmodels) (2.8.2)\n",
            "Requirement already satisfied: pytz>=2020.1 in /usr/local/lib/python3.10/dist-packages (from pandas!=2.1.0,>=1.4->statsmodels) (2023.4)\n",
            "Requirement already satisfied: tzdata>=2022.1 in /usr/local/lib/python3.10/dist-packages (from pandas!=2.1.0,>=1.4->statsmodels) (2024.1)\n",
            "Requirement already satisfied: six in /usr/local/lib/python3.10/dist-packages (from patsy>=0.5.6->statsmodels) (1.16.0)\n"
          ]
        }
      ]
    },
    {
      "cell_type": "code",
      "source": [
        "import statsmodels.api as sm\n",
        "\n",
        "def calculate_simple_linear_regression(dataframe):\n",
        "    # Extracting independent variable (X) and dependent variable (y)\n",
        "    X = dataframe['Fleiss Kappa']\n",
        "    y = dataframe['Accuracy']\n",
        "\n",
        "    # Adding a constant to the independent variable\n",
        "    X = sm.add_constant(X)\n",
        "\n",
        "    # Fitting the linear regression model\n",
        "    model = sm.OLS(y, X).fit()\n",
        "\n",
        "    # Printing the summary of the regression model\n",
        "    print(model.summary())\n",
        "\n",
        "    # Return the fitted model\n",
        "    return model\n",
        "\n",
        "calculate_simple_linear_regression(merged_df)"
      ],
      "metadata": {
        "colab": {
          "base_uri": "https://localhost:8080/"
        },
        "id": "tIOdmu47BCMs",
        "outputId": "25ba4226-bb93-4b62-c99a-f15a805a8a03"
      },
      "execution_count": null,
      "outputs": [
        {
          "output_type": "stream",
          "name": "stdout",
          "text": [
            "                            OLS Regression Results                            \n",
            "==============================================================================\n",
            "Dep. Variable:               Accuracy   R-squared:                       0.108\n",
            "Model:                            OLS   Adj. R-squared:                  0.034\n",
            "Method:                 Least Squares   F-statistic:                     1.458\n",
            "Date:                Fri, 07 Jun 2024   Prob (F-statistic):              0.251\n",
            "Time:                        17:03:28   Log-Likelihood:                 17.722\n",
            "No. Observations:                  14   AIC:                            -31.44\n",
            "Df Residuals:                      12   BIC:                            -30.17\n",
            "Df Model:                           1                                         \n",
            "Covariance Type:            nonrobust                                         \n",
            "================================================================================\n",
            "                   coef    std err          t      P>|t|      [0.025      0.975]\n",
            "--------------------------------------------------------------------------------\n",
            "const            0.5739      0.159      3.619      0.004       0.228       0.919\n",
            "Fleiss Kappa     0.3012      0.249      1.207      0.251      -0.242       0.845\n",
            "==============================================================================\n",
            "Omnibus:                        2.242   Durbin-Watson:                   1.530\n",
            "Prob(Omnibus):                  0.326   Jarque-Bera (JB):                0.941\n",
            "Skew:                          -0.631   Prob(JB):                        0.625\n",
            "Kurtosis:                       3.139   Cond. No.                         17.7\n",
            "==============================================================================\n",
            "\n",
            "Notes:\n",
            "[1] Standard Errors assume that the covariance matrix of the errors is correctly specified.\n"
          ]
        },
        {
          "output_type": "stream",
          "name": "stderr",
          "text": [
            "/usr/local/lib/python3.10/dist-packages/scipy/stats/_stats_py.py:1806: UserWarning: kurtosistest only valid for n>=20 ... continuing anyway, n=14\n",
            "  warnings.warn(\"kurtosistest only valid for n>=20 ... continuing \"\n"
          ]
        },
        {
          "output_type": "execute_result",
          "data": {
            "text/plain": [
              "<statsmodels.regression.linear_model.RegressionResultsWrapper at 0x7925c71cf010>"
            ]
          },
          "metadata": {},
          "execution_count": 14
        }
      ]
    },
    {
      "cell_type": "code",
      "source": [
        "import pandas as pd\n",
        "import re\n",
        "\n",
        "def tokenize_text(text):\n",
        "    # Use regular expression to split text into tokens based on whitespace and punctuation\n",
        "    tokens = re.findall(r'\\w+|[^\\w\\s]', text, re.UNICODE)\n",
        "    # Convert tokens to lowercase\n",
        "    tokens = [token.lower().strip() for token in tokens if token.isalnum()]\n",
        "    return tokens\n",
        "\n",
        "def tokenize_escola_file(filename):\n",
        "    # Read the CSV file into a DataFrame\n",
        "    df = pd.read_csv(filename)\n",
        "\n",
        "    # Tokenize each sentence in the \"Sentence\" column\n",
        "    df['Tokenized Sentence'] = df['Sentence'].apply(tokenize_text)\n",
        "\n",
        "    # Return the DataFrame with the tokenized sentences\n",
        "    return df[[\"ID\",\"COLA-ES\",'Tokenized Sentence']]\n",
        "\n",
        "filename = 'test_pred.csv'\n",
        "tokenized_data = tokenize_escola_file(filename)\n",
        "print(tokenized_data.head())"
      ],
      "metadata": {
        "colab": {
          "base_uri": "https://localhost:8080/"
        },
        "id": "fB9kWlNvpRXz",
        "outputId": "4fe94f09-a8af-437e-8765-df699afb221d"
      },
      "execution_count": null,
      "outputs": [
        {
          "output_type": "stream",
          "name": "stdout",
          "text": [
            "             ID  COLA-ES                                 Tokenized Sentence\n",
            "0  ESCoLA_10146        7                                  [qué, te, parece]\n",
            "1   ESCoLA_2419       13    [juan, es, el, chico, más, libros, que, compró]\n",
            "2   ESCoLA_4535        7  [escribió, la, carta, juan, o, la, tarjeta, pe...\n",
            "3   ESCoLA_7107       12  [los, mecánicos, arreglaron, la, puerta, y, la...\n",
            "4   ESCoLA_3032       14  [maría, quería, un, coche, y, se, le, hemos, r...\n"
          ]
        }
      ]
    },
    {
      "cell_type": "code",
      "source": [
        "import pandas as pd\n",
        "\n",
        "def calculate_norm_frequencies(tokenized_data_path, try_csv_path):\n",
        "\n",
        "    # Load try.csv\n",
        "    try_data = pd.read_csv(try_csv_path)\n",
        "\n",
        "    try_data[' Item'] = try_data[' Item'].str.strip().str.lower()\n",
        "\n",
        "    # Create a dictionary mapping words to relative frequencies\n",
        "    word_to_norm_freq = dict(zip(try_data[' Item'], try_data['Frec_Rel']))\n",
        "\n",
        "    # Function to calculate normalized frequencies for a given tokenized sentence\n",
        "    def calculate_norm_freq(sentence):\n",
        "        return [word_to_norm_freq.get(token, 0.0) for token in sentence]\n",
        "\n",
        "    # Apply the function to each tokenized sentence and create a new column with the results\n",
        "    tokenized_data['Normalized Frequencies'] = tokenized_data['Tokenized Sentence'].apply(calculate_norm_freq)\n",
        "\n",
        "    return tokenized_data\n",
        "\n",
        "result = calculate_norm_frequencies(\"tokenized_data\", \"try.csv\")\n",
        "print(result)"
      ],
      "metadata": {
        "colab": {
          "base_uri": "https://localhost:8080/"
        },
        "id": "iVziwXgzpRyY",
        "outputId": "134ecaa2-a29d-4e9d-9aa7-05baa7fc3b02"
      },
      "execution_count": null,
      "outputs": [
        {
          "output_type": "stream",
          "name": "stdout",
          "text": [
            "                ID  COLA-ES  \\\n",
            "0     ESCoLA_10146        7   \n",
            "1      ESCoLA_2419       13   \n",
            "2      ESCoLA_4535        7   \n",
            "3      ESCoLA_7107       12   \n",
            "4      ESCoLA_3032       14   \n",
            "...            ...      ...   \n",
            "1055  ESCoLA_10334        7   \n",
            "1056   ESCoLA_3673        4   \n",
            "1057   ESCoLA_4060        3   \n",
            "1058   ESCoLA_1919       13   \n",
            "1059    ESCoLA_512       11   \n",
            "\n",
            "                                     Tokenized Sentence  \\\n",
            "0                                     [qué, te, parece]   \n",
            "1       [juan, es, el, chico, más, libros, que, compró]   \n",
            "2     [escribió, la, carta, juan, o, la, tarjeta, pe...   \n",
            "3     [los, mecánicos, arreglaron, la, puerta, y, la...   \n",
            "4     [maría, quería, un, coche, y, se, le, hemos, r...   \n",
            "...                                                 ...   \n",
            "1055         [fue, con, aquel, lápiz, con, que, dibujó]   \n",
            "1056  [un, futbolista, agredió, a, una, periodista, ...   \n",
            "1057  [durante, los, primeros, años, se, encargó, de...   \n",
            "1058                        [juan, es, un, poco, torpe]   \n",
            "1059            [hay, un, cartel, fijo, por, el, bedel]   \n",
            "\n",
            "                                 Normalized Frequencies  \n",
            "0                             [1212.36, 786.92, 357.59]  \n",
            "1     [374.96, 6683.79, 29953.48, 36.91, 4337.33, 11...  \n",
            "2     [37.04, 41148.59, 119.41, 374.96, 3554.6, 4114...  \n",
            "3     [17164.95, 0.0, 0.0, 41148.59, 206.49, 27401.1...  \n",
            "4     [260.96, 123.4, 10879.95, 74.31, 27401.19, 132...  \n",
            "...                                                 ...  \n",
            "1055  [1466.92, 9711.74, 258.11, 8.04, 9711.74, 3068...  \n",
            "1056  [10879.95, 9.7, 0.0, 21375.03, 8833.36, 56.02,...  \n",
            "1057  [734.27, 17164.95, 184.8, 1330.81, 13257.31, 1...  \n",
            "1058          [374.96, 6683.79, 10879.95, 604.39, 8.35]  \n",
            "1059  [1081.16, 10879.95, 20.3, 17.88, 10238.07, 299...  \n",
            "\n",
            "[1060 rows x 4 columns]\n"
          ]
        }
      ]
    },
    {
      "cell_type": "code",
      "source": [
        "import pandas as pd\n",
        "\n",
        "# Function to calculate average normalized frequency\n",
        "def calculate_average(row):\n",
        "    return sum(row) / len(row)\n",
        "\n",
        "# Apply the function to each list in the 'Normalized Frequencies' column\n",
        "result['Average Normalized Frequency'] = result['Normalized Frequencies'].apply(calculate_average)\n",
        "\n",
        "print(result)"
      ],
      "metadata": {
        "colab": {
          "base_uri": "https://localhost:8080/"
        },
        "id": "LK6WqVCEpSDM",
        "outputId": "f5c85d67-1cc9-471c-c63d-a37ca736ed25"
      },
      "execution_count": null,
      "outputs": [
        {
          "output_type": "stream",
          "name": "stdout",
          "text": [
            "                ID  COLA-ES  \\\n",
            "0     ESCoLA_10146        7   \n",
            "1      ESCoLA_2419       13   \n",
            "2      ESCoLA_4535        7   \n",
            "3      ESCoLA_7107       12   \n",
            "4      ESCoLA_3032       14   \n",
            "...            ...      ...   \n",
            "1055  ESCoLA_10334        7   \n",
            "1056   ESCoLA_3673        4   \n",
            "1057   ESCoLA_4060        3   \n",
            "1058   ESCoLA_1919       13   \n",
            "1059    ESCoLA_512       11   \n",
            "\n",
            "                                     Tokenized Sentence  \\\n",
            "0                                     [qué, te, parece]   \n",
            "1       [juan, es, el, chico, más, libros, que, compró]   \n",
            "2     [escribió, la, carta, juan, o, la, tarjeta, pe...   \n",
            "3     [los, mecánicos, arreglaron, la, puerta, y, la...   \n",
            "4     [maría, quería, un, coche, y, se, le, hemos, r...   \n",
            "...                                                 ...   \n",
            "1055         [fue, con, aquel, lápiz, con, que, dibujó]   \n",
            "1056  [un, futbolista, agredió, a, una, periodista, ...   \n",
            "1057  [durante, los, primeros, años, se, encargó, de...   \n",
            "1058                        [juan, es, un, poco, torpe]   \n",
            "1059            [hay, un, cartel, fijo, por, el, bedel]   \n",
            "\n",
            "                                 Normalized Frequencies  \\\n",
            "0                             [1212.36, 786.92, 357.59]   \n",
            "1     [374.96, 6683.79, 29953.48, 36.91, 4337.33, 11...   \n",
            "2     [37.04, 41148.59, 119.41, 374.96, 3554.6, 4114...   \n",
            "3     [17164.95, 0.0, 0.0, 41148.59, 206.49, 27401.1...   \n",
            "4     [260.96, 123.4, 10879.95, 74.31, 27401.19, 132...   \n",
            "...                                                 ...   \n",
            "1055  [1466.92, 9711.74, 258.11, 8.04, 9711.74, 3068...   \n",
            "1056  [10879.95, 9.7, 0.0, 21375.03, 8833.36, 56.02,...   \n",
            "1057  [734.27, 17164.95, 184.8, 1330.81, 13257.31, 1...   \n",
            "1058          [374.96, 6683.79, 10879.95, 604.39, 8.35]   \n",
            "1059  [1081.16, 10879.95, 20.3, 17.88, 10238.07, 299...   \n",
            "\n",
            "      Average Normalized Frequency  \n",
            "0                       785.623333  \n",
            "1                      9025.117500  \n",
            "2                     10820.238750  \n",
            "3                     14129.972222  \n",
            "4                      6104.638889  \n",
            "...                            ...  \n",
            "1055                   7406.485714  \n",
            "1056                  13340.540000  \n",
            "1057                  14571.415000  \n",
            "1058                   3710.288000  \n",
            "1059                   7455.834286  \n",
            "\n",
            "[1060 rows x 5 columns]\n"
          ]
        }
      ]
    },
    {
      "cell_type": "markdown",
      "source": [
        "Dividing the dataframes by category"
      ],
      "metadata": {
        "id": "V0_0sDu_pgvQ"
      }
    },
    {
      "cell_type": "code",
      "source": [
        "import pandas as pd\n",
        "\n",
        "# Assuming organized_data_df is your DataFrame\n",
        "\n",
        "# Group the DataFrame by the \"Category\" column\n",
        "grouped_data = result.groupby(\"COLA-ES\")\n",
        "\n",
        "# Iterate over each group and save it to a CSV file\n",
        "for category, data in grouped_data:\n",
        "    # Create a filename based on the category\n",
        "    filename = f\"{category}_data.csv\"\n",
        "    # Save the data to a CSV file\n",
        "    data.to_csv(filename, index=False)"
      ],
      "metadata": {
        "id": "ffGEmJMNpSUV"
      },
      "execution_count": null,
      "outputs": []
    },
    {
      "cell_type": "markdown",
      "source": [
        "Comparison"
      ],
      "metadata": {
        "id": "fqWHufp5poLJ"
      }
    },
    {
      "cell_type": "code",
      "source": [
        "import pandas as pd\n",
        "\n",
        "def compare_average_normalized_frequency(file1):\n",
        "    # Load the dataframes\n",
        "    df1 = pd.read_csv(file1)\n",
        "\n",
        "    # Calculate the average of the \"Average Normalized Frequency\" column for each dataframe\n",
        "    avg_freq_df1 = df1['Average Normalized Frequency'].mean()\n",
        "\n",
        "    # Print the averages\n",
        "    print(f\"Average Normalized Frequency Mean for {file1}: {avg_freq_df1}\")\n",
        "\n",
        "    median_freq_df1 = df1['Average Normalized Frequency'].median()\n",
        "\n",
        "    print(f\"Average Normalized Frequency Median for {file1}: {median_freq_df1}\")\n",
        "\n",
        "    return avg_freq_df1\n",
        "\n",
        "file1 = '14_data.csv'\n",
        "compare_average_normalized_frequency(file1)"
      ],
      "metadata": {
        "colab": {
          "base_uri": "https://localhost:8080/"
        },
        "id": "oKqOHGBqpSql",
        "outputId": "67de09ac-b544-4a94-8514-4a27e250d67a"
      },
      "execution_count": null,
      "outputs": [
        {
          "output_type": "stream",
          "name": "stdout",
          "text": [
            "Average Normalized Frequency Mean for 14_data.csv: 8682.275205645443\n",
            "Average Normalized Frequency Median for 14_data.csv: 7956.098999999999\n"
          ]
        },
        {
          "output_type": "execute_result",
          "data": {
            "text/plain": [
              "8682.275205645443"
            ]
          },
          "metadata": {},
          "execution_count": 19
        }
      ]
    },
    {
      "cell_type": "code",
      "source": [
        "import pandas as pd\n",
        "\n",
        "\n",
        "data = {\n",
        "    \"Category\": list(range(1, 15)),\n",
        "    \"Mean\": [\n",
        "        3805.705399999999, 6139.891880384198, 7800.094683156433, 7712.147261166611,\n",
        "        8468.241338317577, 7260.965509475817, 8452.101424948527, 8670.613243081152,\n",
        "        6776.592088865286, 8250.11332057509, 10176.568103642225, 7203.685932738143,\n",
        "        7250.196577739842, 8682.275205645443\n",
        "    ],\n",
        "    \"Median\": [\n",
        "        2475.5, 4039.09875, 7790.83857142857, 7063.511,\n",
        "        7772.702857142857, 7198.277142857143, 8154.591, 8158.375666666667,\n",
        "        6116.546, 7663.5866964285715, 9979.896666666667, 6800.428333333334,\n",
        "        6762.596666666665, 7956.098999999999\n",
        "    ]\n",
        "}\n",
        "\n",
        "# Creating DataFrame\n",
        "df = pd.DataFrame(data)\n",
        "\n",
        "print(df)"
      ],
      "metadata": {
        "colab": {
          "base_uri": "https://localhost:8080/"
        },
        "id": "Cv5pQav0psqR",
        "outputId": "a84d8646-04bb-455a-ee6f-918e9f75fe75"
      },
      "execution_count": null,
      "outputs": [
        {
          "output_type": "stream",
          "name": "stdout",
          "text": [
            "    Category          Mean       Median\n",
            "0          1   3805.705400  2475.500000\n",
            "1          2   6139.891880  4039.098750\n",
            "2          3   7800.094683  7790.838571\n",
            "3          4   7712.147261  7063.511000\n",
            "4          5   8468.241338  7772.702857\n",
            "5          6   7260.965509  7198.277143\n",
            "6          7   8452.101425  8154.591000\n",
            "7          8   8670.613243  8158.375667\n",
            "8          9   6776.592089  6116.546000\n",
            "9         10   8250.113321  7663.586696\n",
            "10        11  10176.568104  9979.896667\n",
            "11        12   7203.685933  6800.428333\n",
            "12        13   7250.196578  6762.596667\n",
            "13        14   8682.275206  7956.099000\n"
          ]
        }
      ]
    }
  ]
}